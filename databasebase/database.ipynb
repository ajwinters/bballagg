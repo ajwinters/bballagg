{
 "cells": [
  {
   "cell_type": "code",
   "execution_count": 1,
   "metadata": {},
   "outputs": [],
   "source": [
    "import pandas as pd\n",
    "import time\n",
    "import numpy as np\n",
    "from nba_api.stats.endpoints import playercareerstats\n",
    "import nba_api.stats.endpoints as nbaapi\n",
    "import boto3\n",
    "from nba_api.stats.endpoints import LeagueGameFinder, LeagueDashPlayerBioStats\n",
    "import psycopg2\n",
    "\n",
    "\n",
    "pd.set_option('display.max_columns', 500)\n",
    "\n",
    "# Example usage\n",
    "db_name = \"thebigone\"\n",
    "username = \"ajwin\"\n",
    "password = \"CharlesBark!23\"\n",
    "host = \"nba-rds-instance.c9wwc0ukkiu5.us-east-1.rds.amazonaws.com\"\n"
   ]
  },
  {
   "cell_type": "code",
   "execution_count": null,
   "metadata": {},
   "outputs": [],
   "source": [
    "from nba_api.stats.endpoints import leaguegamefinder\n",
    "\n",
    "seasons = []\n",
    "for i in list(range(1983,2024)):\n",
    "    seasons.append(str(i)+'-'+str(i+1)[2:])\n",
    "seasons = seasons[::-1]\n"
   ]
  },
  {
   "cell_type": "code",
   "execution_count": 3,
   "metadata": {},
   "outputs": [
    {
     "name": "stdout",
     "output_type": "stream",
     "text": [
      "RDS instance nba-rds-instance creation initiated.\n"
     ]
    },
    {
     "data": {
      "text/plain": [
       "{'DBInstance': {'DBInstanceIdentifier': 'nba-rds-instance',\n",
       "  'DBInstanceClass': 'db.t3.micro',\n",
       "  'Engine': 'postgres',\n",
       "  'DBInstanceStatus': 'creating',\n",
       "  'MasterUsername': 'ajwin',\n",
       "  'DBName': 'thebigone',\n",
       "  'AllocatedStorage': 20,\n",
       "  'PreferredBackupWindow': '06:40-07:10',\n",
       "  'BackupRetentionPeriod': 7,\n",
       "  'DBSecurityGroups': [],\n",
       "  'VpcSecurityGroups': [{'VpcSecurityGroupId': 'sg-048e804df880ce6ca',\n",
       "    'Status': 'active'}],\n",
       "  'DBParameterGroups': [{'DBParameterGroupName': 'default.postgres16',\n",
       "    'ParameterApplyStatus': 'in-sync'}],\n",
       "  'DBSubnetGroup': {'DBSubnetGroupName': 'default',\n",
       "   'DBSubnetGroupDescription': 'default',\n",
       "   'VpcId': 'vpc-0da11b2b953a7cab5',\n",
       "   'SubnetGroupStatus': 'Complete',\n",
       "   'Subnets': [{'SubnetIdentifier': 'subnet-02fedebb493b9a06e',\n",
       "     'SubnetAvailabilityZone': {'Name': 'us-east-1c'},\n",
       "     'SubnetOutpost': {},\n",
       "     'SubnetStatus': 'Active'},\n",
       "    {'SubnetIdentifier': 'subnet-0c8f0f9dc389265c1',\n",
       "     'SubnetAvailabilityZone': {'Name': 'us-east-1e'},\n",
       "     'SubnetOutpost': {},\n",
       "     'SubnetStatus': 'Active'},\n",
       "    {'SubnetIdentifier': 'subnet-0b2cb30a726aa1ee4',\n",
       "     'SubnetAvailabilityZone': {'Name': 'us-east-1b'},\n",
       "     'SubnetOutpost': {},\n",
       "     'SubnetStatus': 'Active'},\n",
       "    {'SubnetIdentifier': 'subnet-02c40e50e71311aef',\n",
       "     'SubnetAvailabilityZone': {'Name': 'us-east-1d'},\n",
       "     'SubnetOutpost': {},\n",
       "     'SubnetStatus': 'Active'},\n",
       "    {'SubnetIdentifier': 'subnet-096b63e3299aad296',\n",
       "     'SubnetAvailabilityZone': {'Name': 'us-east-1a'},\n",
       "     'SubnetOutpost': {},\n",
       "     'SubnetStatus': 'Active'},\n",
       "    {'SubnetIdentifier': 'subnet-0c0f1cfd2710ab3b9',\n",
       "     'SubnetAvailabilityZone': {'Name': 'us-east-1f'},\n",
       "     'SubnetOutpost': {},\n",
       "     'SubnetStatus': 'Active'}]},\n",
       "  'PreferredMaintenanceWindow': 'wed:09:50-wed:10:20',\n",
       "  'PendingModifiedValues': {'MasterUserPassword': '****'},\n",
       "  'MultiAZ': False,\n",
       "  'EngineVersion': '16.3',\n",
       "  'AutoMinorVersionUpgrade': True,\n",
       "  'ReadReplicaDBInstanceIdentifiers': [],\n",
       "  'LicenseModel': 'postgresql-license',\n",
       "  'OptionGroupMemberships': [{'OptionGroupName': 'default:postgres-16',\n",
       "    'Status': 'in-sync'}],\n",
       "  'PubliclyAccessible': False,\n",
       "  'StorageType': 'gp2',\n",
       "  'DbInstancePort': 0,\n",
       "  'StorageEncrypted': False,\n",
       "  'DbiResourceId': 'db-7AH6YTAKFOZGDIP4JLV246UYXY',\n",
       "  'CACertificateIdentifier': 'rds-ca-rsa2048-g1',\n",
       "  'DomainMemberships': [],\n",
       "  'CopyTagsToSnapshot': False,\n",
       "  'MonitoringInterval': 0,\n",
       "  'DBInstanceArn': 'arn:aws:rds:us-east-1:585768178063:db:nba-rds-instance',\n",
       "  'IAMDatabaseAuthenticationEnabled': False,\n",
       "  'PerformanceInsightsEnabled': False,\n",
       "  'DeletionProtection': False,\n",
       "  'AssociatedRoles': [],\n",
       "  'TagList': [],\n",
       "  'CustomerOwnedIpEnabled': False,\n",
       "  'BackupTarget': 'region',\n",
       "  'NetworkType': 'IPV4',\n",
       "  'StorageThroughput': 0,\n",
       "  'CertificateDetails': {'CAIdentifier': 'rds-ca-rsa2048-g1'},\n",
       "  'DedicatedLogVolume': False,\n",
       "  'EngineLifecycleSupport': 'open-source-rds-extended-support'},\n",
       " 'ResponseMetadata': {'RequestId': 'c42f888d-9d77-4067-8052-fe87a6cd73cf',\n",
       "  'HTTPStatusCode': 200,\n",
       "  'HTTPHeaders': {'x-amzn-requestid': 'c42f888d-9d77-4067-8052-fe87a6cd73cf',\n",
       "   'strict-transport-security': 'max-age=31536000',\n",
       "   'content-type': 'text/xml',\n",
       "   'content-length': '4136',\n",
       "   'date': 'Thu, 19 Sep 2024 00:24:11 GMT'},\n",
       "  'RetryAttempts': 0}}"
      ]
     },
     "execution_count": 3,
     "metadata": {},
     "output_type": "execute_result"
    }
   ],
   "source": [
    "# CREATE DATABASE\n",
    "# import boto3\n",
    "\n",
    "# # Create RDS Client\n",
    "# rds_client = boto3.client('rds')\n",
    "\n",
    "# def create_rds_instance(db_instance_identifier, db_name, master_username, master_user_password):\n",
    "#     try:\n",
    "#         response = rds_client.create_db_instance(\n",
    "#             DBInstanceIdentifier=db_instance_identifier,\n",
    "#             AllocatedStorage=20,  # Adjust as needed\n",
    "#             DBName=db_name,\n",
    "#             Engine='postgres',  # Using PostgreSQL, can switch if needed\n",
    "#             MasterUsername=master_username,\n",
    "#             MasterUserPassword=master_user_password,\n",
    "#             DBInstanceClass='db.t3.micro',  # Adjust based on size\n",
    "#             PubliclyAccessible=False,\n",
    "#             MultiAZ=False,\n",
    "#             StorageType='gp2',\n",
    "#             BackupRetentionPeriod=7,\n",
    "#         )\n",
    "#         print(f\"RDS instance {db_instance_identifier} creation initiated.\")\n",
    "#         return response\n",
    "#     except Exception as e:\n",
    "#         print(f\"Error creating RDS instance: {str(e)}\")\n",
    "\n",
    "# create_rds_instance(\"nba-rds-instance\",\"thebigone\",\"ajwin\",\"CharlesBark!23\")\n"
   ]
  },
  {
   "cell_type": "code",
   "execution_count": 9,
   "metadata": {},
   "outputs": [],
   "source": [
    "seasons = []\n",
    "for i in list(range(1983,2024)):\n",
    "    seasons.append(str(i)+'-'+str(i+1)[2:])\n",
    "seasons = seasons[::-1]\n",
    "\n",
    "\n",
    "def get_games_data():\n",
    "    # Get game data\n",
    "    gamesl = []\n",
    "    for i in seasons:\n",
    "        gamefinder = LeagueGameFinder(league_id_nullable='00',season_nullable=i).get_data_frames()[0]\n",
    "        gamesl.append(gamefinder)\n",
    "        time.sleep(1)\n",
    "    gamehistory = pd.concat(gamesl,axis=0)\n",
    "    gamehistory['GAME_DATE'] =  pd.to_datetime(gamehistory['GAME_DATE'])\n",
    "    return gamehistory\n",
    "\n",
    "\n",
    "def get_players_data():\n",
    "    # Get player data\n",
    "    playersl = []\n",
    "    for i in seasons:\n",
    "        playerfinder = nbaapi.leaguedashplayerbiostats.LeagueDashPlayerBioStats(season=i).get_data_frames()[0]\n",
    "        playerfinder['season']=i\n",
    "        playersl.append(playerfinder)\n",
    "        time.sleep(.5)\n",
    "    allplayers = pd.concat(playersl,axis=0)\n",
    "    return allplayers\n"
   ]
  },
  {
   "cell_type": "code",
   "execution_count": 10,
   "metadata": {},
   "outputs": [
    {
     "name": "stdout",
     "output_type": "stream",
     "text": [
      "Connected to RDS database\n"
     ]
    },
    {
     "name": "stderr",
     "output_type": "stream",
     "text": [
      "C:\\Users\\ajwin\\AppData\\Local\\Temp\\ipykernel_54512\\3690715273.py:17: FutureWarning: The behavior of DataFrame concatenation with empty or all-NA entries is deprecated. In a future version, this will no longer exclude empty or all-NA columns when determining the result dtypes. To retain the old behavior, exclude the relevant entries before the concat operation.\n",
      "  gamehistory = pd.concat(gamesl,axis=0)\n"
     ]
    },
    {
     "name": "stdout",
     "output_type": "stream",
     "text": [
      "Table games created successfully.\n",
      "Data inserted into games.\n"
     ]
    },
    {
     "name": "stderr",
     "output_type": "stream",
     "text": [
      "C:\\Users\\ajwin\\AppData\\Local\\Temp\\ipykernel_54512\\3690715273.py:30: FutureWarning: The behavior of DataFrame concatenation with empty or all-NA entries is deprecated. In a future version, this will no longer exclude empty or all-NA columns when determining the result dtypes. To retain the old behavior, exclude the relevant entries before the concat operation.\n",
      "  allplayers = pd.concat(playersl,axis=0)\n"
     ]
    },
    {
     "name": "stdout",
     "output_type": "stream",
     "text": [
      "Table players created successfully.\n",
      "Data inserted into players.\n"
     ]
    }
   ],
   "source": [
    "\n",
    "# Connect to RDS database\n",
    "def connect_to_rds(db_name, username, password, host, port=5432):\n",
    "    try:\n",
    "        conn = psycopg2.connect(\n",
    "            dbname=db_name,\n",
    "            user=username,\n",
    "            password=password,\n",
    "            host=host,\n",
    "            port=port\n",
    "        )\n",
    "        print(\"Connected to RDS database\")\n",
    "        return conn\n",
    "    except Exception as e:\n",
    "        print(f\"Error connecting to RDS: {str(e)}\")\n",
    "        return None\n",
    "\n",
    "# Create a table in PostgreSQL\n",
    "def create_table(conn, table_name, dataframe):\n",
    "    columns = \", \".join([f\"{col} TEXT\" for col in dataframe.columns])  # Simplified, adjust as needed\n",
    "    create_table_query = f\"CREATE TABLE IF NOT EXISTS {table_name} ({columns});\"\n",
    "    \n",
    "    cursor = conn.cursor()\n",
    "    cursor.execute(create_table_query)\n",
    "    conn.commit()\n",
    "    print(f\"Table {table_name} created successfully.\")\n",
    "\n",
    "# Insert data into the table\n",
    "def insert_data(conn, table_name, dataframe):\n",
    "    cursor = conn.cursor()\n",
    "    for _, row in dataframe.iterrows():\n",
    "        placeholders = ', '.join(['%s'] * len(row))\n",
    "        columns = ', '.join(dataframe.columns)\n",
    "        insert_query = f\"INSERT INTO {table_name} ({columns}) VALUES ({placeholders}) ON CONFLICT DO NOTHING;\"\n",
    "        cursor.execute(insert_query, tuple(row))\n",
    "    conn.commit()\n",
    "    print(f\"Data inserted into {table_name}.\")\n",
    "\n",
    "\n",
    "conn = connect_to_rds(db_name, username, password, host)\n",
    "\n",
    "# Get and insert games data\n",
    "games_data = get_games_data()\n",
    "create_table(conn, \"games\", games_data)\n",
    "insert_data(conn, \"games\", games_data)\n",
    "\n",
    "# Get and insert players data\n",
    "players_data = get_players_data()\n",
    "create_table(conn, \"players\", players_data)\n",
    "insert_data(conn, \"players\", players_data)\n"
   ]
  },
  {
   "cell_type": "code",
   "execution_count": 15,
   "metadata": {},
   "outputs": [
    {
     "name": "stdout",
     "output_type": "stream",
     "text": [
      "Connected to RDS database\n"
     ]
    },
    {
     "name": "stderr",
     "output_type": "stream",
     "text": [
      "C:\\Users\\ajwin\\AppData\\Local\\Temp\\ipykernel_54512\\270539326.py:5: UserWarning: pandas only supports SQLAlchemy connectable (engine/connection) or database string URI or sqlite3 DBAPI2 connection. Other DBAPI2 objects are not tested. Please consider using SQLAlchemy.\n",
      "  dataframe = pd.read_sql(query, conn)\n"
     ]
    }
   ],
   "source": [
    "\n",
    "    \n",
    "\n"
   ]
  },
  {
   "cell_type": "code",
   "execution_count": null,
   "metadata": {},
   "outputs": [],
   "source": [
    "#############################################################\n",
    "#############################################################\n",
    "\n",
    "# Query the database and return results as a pandas dataframe\n",
    "def query_database_to_dataframe(conn, query):\n",
    "    try:\n",
    "        # Read the query result into a pandas dataframe\n",
    "        dataframe = pd.read_sql(query, conn)\n",
    "        return dataframe\n",
    "    except Exception as e:\n",
    "        print(f\"Error executing query: {str(e)}\")\n",
    "        return None\n",
    "\n",
    "# Connect to the RDS database\n",
    "conn = connect_to_rds(db_name, username, password, host)\n",
    "\n",
    "# Define your SQL query\n",
    "query = \"SELECT * FROM players;\"  # Example query: fetch 10 rows from the 'games' table\n",
    "\n",
    "# Execute the query and store the result in a pandas dataframe\n",
    "if conn:\n",
    "    result_df = query_database_to_dataframe(conn, query)\n",
    "\n",
    "\n",
    "# Close the connection\n",
    "conn.close()"
   ]
  },
  {
   "cell_type": "code",
   "execution_count": null,
   "metadata": {},
   "outputs": [],
   "source": []
  },
  {
   "cell_type": "code",
   "execution_count": null,
   "metadata": {},
   "outputs": [],
   "source": []
  }
 ],
 "metadata": {
  "kernelspec": {
   "display_name": ".venv",
   "language": "python",
   "name": "python3"
  },
  "language_info": {
   "codemirror_mode": {
    "name": "ipython",
    "version": 3
   },
   "file_extension": ".py",
   "mimetype": "text/x-python",
   "name": "python",
   "nbconvert_exporter": "python",
   "pygments_lexer": "ipython3",
   "version": "3.12.6"
  }
 },
 "nbformat": 4,
 "nbformat_minor": 2
}
