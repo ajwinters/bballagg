{
 "cells": [
  {
   "cell_type": "code",
   "execution_count": 1,
   "metadata": {},
   "outputs": [],
   "source": [
    "import pandas as pd\n",
    "import time\n",
    "import numpy as np\n",
    "from nba_api.stats.endpoints import playercareerstats\n",
    "import nba_api.stats.endpoints as nbaapi\n",
    "from nba_api.stats.endpoints import leaguegamefinder\n",
    "import psycopg2\n",
    "import re\n",
    "import allintwo"
   ]
  },
  {
   "cell_type": "code",
   "execution_count": 2,
   "metadata": {},
   "outputs": [
    {
     "name": "stdout",
     "output_type": "stream",
     "text": [
      "Connected to RDS PostgreSQL database\n"
     ]
    },
    {
     "name": "stderr",
     "output_type": "stream",
     "text": [
      "C:\\Users\\ajwin\\AppData\\Local\\Temp\\ipykernel_218280\\3251510134.py:19: FutureWarning: The behavior of DataFrame concatenation with empty or all-NA entries is deprecated. In a future version, this will no longer exclude empty or all-NA columns when determining the result dtypes. To retain the old behavior, exclude the relevant entries before the concat operation.\n",
      "  gamehistory = pd.concat(gamesl,axis=0)\n",
      "C:\\Users\\ajwin\\AppData\\Local\\Temp\\ipykernel_218280\\3251510134.py:29: FutureWarning: The behavior of DataFrame concatenation with empty or all-NA entries is deprecated. In a future version, this will no longer exclude empty or all-NA columns when determining the result dtypes. To retain the old behavior, exclude the relevant entries before the concat operation.\n",
      "  allplayers = pd.concat(playersl,axis=0)\n"
     ]
    },
    {
     "name": "stdout",
     "output_type": "stream",
     "text": [
      "Master table mastergames created successfully or already exists.\n",
      "Master table masterplayers created successfully or already exists.\n",
      "Data inserted successfully into mastergames table.\n",
      "Data inserted successfully into masterplayers table.\n"
     ]
    }
   ],
   "source": [
    "# from nba_api.stats.endpoints import leaguegamefinder\n",
    "\n",
    "### Connecting to the RDS db\n",
    "conn = allintwo.connect_to_rds('thebigone', 'ajwin', 'CharlesBark!23', 'nba-rds-instance.c9wwc0ukkiu5.us-east-1.rds.amazonaws.com')\n",
    "\n",
    "### Generating the set of nba seasons\n",
    "seasons = []\n",
    "for i in list(range(1983,2025)):\n",
    "    seasons.append(str(i)+'-'+str(i+1)[2:])\n",
    "seasons = seasons[::-1]\n",
    "\n",
    "### Fetching all games iteratively and storing into a dataframe\n",
    "## Takes only 1:20 to pull\n",
    "gamesl = []\n",
    "for i in seasons:\n",
    "    gamefinder = leaguegamefinder.LeagueGameFinder(season_nullable=i).get_data_frames()[0]\n",
    "    gamesl.append(gamefinder)\n",
    "    time.sleep(1)\n",
    "gamehistory = pd.concat(gamesl,axis=0)\n",
    "gamehistory['GAME_DATE'] =  pd.to_datetime(gamehistory['GAME_DATE'])\n",
    "\n",
    "## Takes only 1:07\n",
    "playersl = []\n",
    "for i in seasons:\n",
    "    playerfinder = nbaapi.leaguedashplayerbiostats.LeagueDashPlayerBioStats(season=i).get_data_frames()[0]\n",
    "    playerfinder['season']=i\n",
    "    playersl.append(playerfinder)\n",
    "    time.sleep(.5)\n",
    "allplayers = pd.concat(playersl,axis=0)\n",
    "\n",
    "##### THIS PROCESSES AND RECREATES THE MASTER TABLES \n",
    "### DROP TABLES\n",
    "cursor = conn.cursor()\n",
    "cursor.execute(\"DROP TABLE IF EXISTS mastergames;\")\n",
    "cursor.execute(\"DROP TABLE IF EXISTS masterplayers;\")\n",
    "\n",
    "conn.commit()\n",
    "\n",
    "gamehistory = allintwo.clean_column_names(gamehistory)\n",
    "allplayers = allintwo.clean_column_names(allplayers)\n",
    "\n",
    "allintwo.create_table(conn,'mastergames',gamehistory)\n",
    "allintwo.create_table(conn,'masterplayers',allplayers)\n",
    "\n",
    "allintwo.insert_dataframe_to_rds(conn,\n",
    "    gamehistory,\n",
    "    table_name='mastergames'\n",
    ")\n",
    "\n",
    "allintwo.insert_dataframe_to_rds(conn,\n",
    "    allplayers,\n",
    "    table_name='masterplayers'\n",
    ")\n"
   ]
  },
  {
   "cell_type": "code",
   "execution_count": null,
   "metadata": {},
   "outputs": [
    {
     "name": "stdout",
     "output_type": "stream",
     "text": [
      "Connected to RDS PostgreSQL database\n",
      "Data fetched successfully from mastergames table.\n"
     ]
    }
   ],
   "source": [
    "##### TEST BLOCK #####\n",
    "\n",
    "conn = allintwo.connect_to_rds('thebigone', 'ajwin', 'CharlesBark!23', 'nba-rds-instance.c9wwc0ukkiu5.us-east-1.rds.amazonaws.com')\n",
    "g1 = allintwo.fetch_table_to_dataframe(conn,'mastergames')\n",
    "# Call the function, passing the existing connection\n",
    "g1"
   ]
  },
  {
   "cell_type": "code",
   "execution_count": null,
   "metadata": {},
   "outputs": [],
   "source": []
  },
  {
   "cell_type": "code",
   "execution_count": null,
   "metadata": {},
   "outputs": [],
   "source": []
  }
 ],
 "metadata": {
  "kernelspec": {
   "display_name": ".venv",
   "language": "python",
   "name": "python3"
  },
  "language_info": {
   "codemirror_mode": {
    "name": "ipython",
    "version": 3
   },
   "file_extension": ".py",
   "mimetype": "text/x-python",
   "name": "python",
   "nbconvert_exporter": "python",
   "pygments_lexer": "ipython3",
   "version": "3.12.6"
  }
 },
 "nbformat": 4,
 "nbformat_minor": 2
}
