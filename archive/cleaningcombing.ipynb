{
 "cells": [
  {
   "cell_type": "code",
   "execution_count": 1,
   "id": "a90623bf-21a1-4687-a1c9-5ec0842e0e15",
   "metadata": {},
   "outputs": [
    {
     "ename": "ModuleNotFoundError",
     "evalue": "No module named 'pandas'",
     "output_type": "error",
     "traceback": [
      "\u001b[1;31m---------------------------------------------------------------------------\u001b[0m",
      "\u001b[1;31mModuleNotFoundError\u001b[0m                       Traceback (most recent call last)",
      "Cell \u001b[1;32mIn[1], line 1\u001b[0m\n\u001b[1;32m----> 1\u001b[0m \u001b[38;5;28;01mimport\u001b[39;00m \u001b[38;5;21;01mpandas\u001b[39;00m \u001b[38;5;28;01mas\u001b[39;00m \u001b[38;5;21;01mpd\u001b[39;00m\n\u001b[0;32m      2\u001b[0m \u001b[38;5;28;01mimport\u001b[39;00m \u001b[38;5;21;01mfunctools\u001b[39;00m \u001b[38;5;28;01mas\u001b[39;00m \u001b[38;5;21;01mft\u001b[39;00m\n\u001b[0;32m      4\u001b[0m seasons \u001b[38;5;241m=\u001b[39m []\n",
      "\u001b[1;31mModuleNotFoundError\u001b[0m: No module named 'pandas'"
     ]
    }
   ],
   "source": [
    "import pandas as pd\n",
    "import functools as ft\n",
    "\n",
    "seasons = []\n",
    "for i in list(range(2013,2022)):\n",
    "    seasons.append(str(i)+'-'+str(i+1)[2:])\n",
    "    "
   ]
  },
  {
   "cell_type": "code",
   "execution_count": 4,
   "id": "300b1ef7-8bd2-4d71-bb68-a2e0ff64c543",
   "metadata": {},
   "outputs": [],
   "source": [
    "dd1 = pd.read_csv(r'C:\\Users\\Alex\\Google Drive\\Files\\Archive\\PSU_statistics\\STAT581\\NBA\\Data\\ldplayerdashptdef.csv') # 'CLOSE_DEF_PERSON_ID', 'season'\n",
    "dd2 = pd.read_csv(r'C:\\Users\\Alex\\Google Drive\\Files\\Archive\\PSU_statistics\\STAT581\\NBA\\Data\\ldplayershot.csv') # 'PLAYER_ID','season'\n",
    "#dd3 = pd.read_csv(r'C:\\Users\\Alex\\Google Drive\\Files\\Archive\\PSU_statistics\\STAT581\\NBA\\Data\\ldplayershotloc.csv')\n",
    "dd4 = pd.read_csv(r'C:\\Users\\Alex\\Google Drive\\Files\\Archive\\PSU_statistics\\STAT581\\NBA\\Data\\ldplayerstats.csv') # 'PLAYER_ID','season'\n",
    "dd5 = pd.read_csv(r'C:\\Users\\Alex\\Google Drive\\Files\\Archive\\PSU_statistics\\STAT581\\NBA\\Data\\playercareer.csv') # 'PLAYER_ID','SEASON_ID'\n",
    "dd6 = pd.read_csv(r'C:\\Users\\Alex\\Google Drive\\Files\\Archive\\PSU_statistics\\STAT581\\NBA\\Data\\playerinfo.csv') # \"PERSON_ID'\n",
    "\n",
    "pdb0 = pd.read_csv(r'C:\\Users\\Alex\\Google Drive\\Files\\Archive\\PSU_statistics\\STAT581\\NBA\\Data\\pdbss0.csv')\n",
    "pdb1 = pd.read_csv(r'C:\\Users\\Alex\\Google Drive\\Files\\Archive\\PSU_statistics\\STAT581\\NBA\\Data\\pdbss1.csv')\n",
    "pdb2 = pd.read_csv(r'C:\\Users\\Alex\\Google Drive\\Files\\Archive\\PSU_statistics\\STAT581\\NBA\\Data\\pdbss2.csv')\n",
    "pdb3 = pd.read_csv(r'C:\\Users\\Alex\\Google Drive\\Files\\Archive\\PSU_statistics\\STAT581\\NBA\\Data\\pdbss3.csv')\n",
    "pdb4 = pd.read_csv(r'C:\\Users\\Alex\\Google Drive\\Files\\Archive\\PSU_statistics\\STAT581\\NBA\\Data\\pdbss4.csv')\n",
    "pdb5 = pd.read_csv(r'C:\\Users\\Alex\\Google Drive\\Files\\Archive\\PSU_statistics\\STAT581\\NBA\\Data\\pdbss5.csv')\n",
    "pdb6 = pd.read_csv(r'C:\\Users\\Alex\\Google Drive\\Files\\Archive\\PSU_statistics\\STAT581\\NBA\\Data\\pdbss6.csv')\n",
    "\n",
    "pdbl = [pdb0,pdb1,pdb2,pdb3,pdb4,pdb5,pdb6]\n",
    "pdb = ft.reduce(lambda left, right: pd.merge(left, right, on=['season','player']), pdbl)\n",
    "pdb[['player']] = pdb[['player']].astype(float)"
   ]
  },
  {
   "cell_type": "code",
   "execution_count": 5,
   "id": "6d1ba648-b427-4639-822d-12ddf5013396",
   "metadata": {},
   "outputs": [],
   "source": [
    "ff1 = dd5.merge(dd4,left_on=['PLAYER_ID','SEASON_ID'],right_on=['PLAYER_ID','season'],how='outer',suffixes=['','_x'])\n",
    "ff2 = ff1.merge(dd2,left_on=['PLAYER_ID','SEASON_ID'],right_on=['PLAYER_ID','season'],how='outer',suffixes=['','_x'])\n",
    "ff3 = ff2.merge(dd1,left_on=['PLAYER_ID','SEASON_ID'],right_on=['CLOSE_DEF_PERSON_ID','season'],how='outer',suffixes=['','_x'])\n",
    "\n",
    "#ff3['PLAYER_ID'] = pd.to_numeric(ff3['PLAYER_ID'],errors='coerce')"
   ]
  },
  {
   "cell_type": "code",
   "execution_count": null,
   "id": "4c751e6e-905d-4178-a416-5896cbfc2516",
   "metadata": {},
   "outputs": [],
   "source": []
  },
  {
   "cell_type": "code",
   "execution_count": 176,
   "id": "eb63f1ed-f183-4894-9603-324d26cc76ec",
   "metadata": {},
   "outputs": [
    {
     "data": {
      "text/plain": [
       "(9852, 1522)"
      ]
     },
     "execution_count": 176,
     "metadata": {},
     "output_type": "execute_result"
    }
   ],
   "source": []
  },
  {
   "cell_type": "code",
   "execution_count": 8,
   "id": "9a68e618-6cc2-401a-b239-55a7d7b34362",
   "metadata": {},
   "outputs": [],
   "source": [
    "df = ff3.merge(pdb,left_on=['PLAYER_ID','SEASON_ID'],right_on=['player','season'],how='left',suffixes=['','_x'])\n",
    "\n",
    "df = df.dropna(subset=['PLAYER_ID','SEASON_ID'],axis=0)\n",
    "df = df[[x for x in df.columns if 'RANK' not in x]]\n",
    "df = df[df['SEASON_ID'].isin(seasons)]\n",
    "# df = df[[k for k in df.columns if '_x' not in k]]\n",
    "# df = pd.concat([df.loc[:, df.dtypes != float],df.loc[:, df.dtypes == float].loc[(df.sum(axis=1) != 0), (df.sum(axis=0) != 0)]],axis=1)\n",
    "# df.drop(columns=['NICKNAME', 'CFPARAMS','PLAYER_LAST_TEAM_ABBREVIATION','GROUP_SET','GROUP_VALUE','CFID','W','L','W_PCT','GS','NBA_FANTASY_PTS',\n",
    "#                 'WNBA_FANTASY_PTS','PLAYER_LAST_TEAM_ID','CLOSE_DEF_PERSON_ID','player'],inplace=True)\n",
    "# df.drop(columns=['TEAM_ID','PLAYER_ID','SEASON_ID'],inplace=True)\n",
    "# df = df[df['GP']>15]\n",
    "\n",
    "# df.fillna(0,inplace=True)\n",
    "# df = df.drop(columns=df.columns[df.eq(0).mean()>0.70])\n",
    "\n",
    "# df = df[[i for i in df.columns if 'PCT' not in i]]\n",
    "# df = df[[i for i in df.columns if 'FREQ' not in i]]\n",
    "\n",
    "# df.iloc[:,6:] = df.iloc[:,6:].apply(lambda x: x/df.MIN)\n",
    "\n",
    "\n",
    "# df.to_csv('test.csv',index=None)\n",
    "# df[df.PLAYER_POSITION.str.contains('G')].to_csv('testG.csv',index=None)\n",
    "# df[df.PLAYER_POSITION.str.contains('C')].to_csv('testC.csv',index=None)\n",
    "# df[df.PLAYER_POSITION.str.contains('F')].to_csv('testF.csv',index=None)\n"
   ]
  },
  {
   "cell_type": "code",
   "execution_count": null,
   "id": "d37e4807-5e06-4383-a700-097965573c8c",
   "metadata": {},
   "outputs": [],
   "source": []
  },
  {
   "cell_type": "code",
   "execution_count": 247,
   "id": "aca2db4e-1fe5-4f35-afcd-afc614e39b0e",
   "metadata": {},
   "outputs": [],
   "source": []
  },
  {
   "cell_type": "code",
   "execution_count": 246,
   "id": "5a90e3ac-23d3-422c-be48-371fcb4671e0",
   "metadata": {},
   "outputs": [
    {
     "data": {
      "text/plain": [
       "0       F\n",
       "1       F\n",
       "2       C\n",
       "3       C\n",
       "4       C\n",
       "       ..\n",
       "3505    C\n",
       "3506    C\n",
       "3507    C\n",
       "3508    C\n",
       "3509    C\n",
       "Name: PLAYER_POSITION, Length: 2741, dtype: object"
      ]
     },
     "execution_count": 246,
     "metadata": {},
     "output_type": "execute_result"
    }
   ],
   "source": [
    "df.PLAYER_POSITION"
   ]
  },
  {
   "cell_type": "code",
   "execution_count": null,
   "id": "28235747-fa14-4efd-8dfd-d2ccbbaa494b",
   "metadata": {},
   "outputs": [],
   "source": []
  },
  {
   "cell_type": "code",
   "execution_count": null,
   "id": "284a3828-b0a4-4cd7-adb4-a194bb117952",
   "metadata": {},
   "outputs": [],
   "source": []
  },
  {
   "cell_type": "code",
   "execution_count": 199,
   "id": "eb879b6e-af3a-479a-9900-2983cacaf0c8",
   "metadata": {},
   "outputs": [],
   "source": [
    "#df[df.columns.sort_values()].to_csv('test.csv')"
   ]
  }
 ],
 "metadata": {
  "kernelspec": {
   "display_name": "Python 3 (ipykernel)",
   "language": "python",
   "name": "python3"
  },
  "language_info": {
   "codemirror_mode": {
    "name": "ipython",
    "version": 3
   },
   "file_extension": ".py",
   "mimetype": "text/x-python",
   "name": "python",
   "nbconvert_exporter": "python",
   "pygments_lexer": "ipython3",
   "version": "3.12.6"
  }
 },
 "nbformat": 4,
 "nbformat_minor": 5
}
