{
 "cells": [
  {
   "cell_type": "code",
   "execution_count": null,
   "metadata": {},
   "outputs": [
    {
     "ename": "ModuleNotFoundError",
     "evalue": "No module named 'google'",
     "output_type": "error",
     "traceback": [
      "\u001b[1;31m---------------------------------------------------------------------------\u001b[0m",
      "\u001b[1;31mModuleNotFoundError\u001b[0m                       Traceback (most recent call last)",
      "Cell \u001b[1;32mIn[1], line 1\u001b[0m\n\u001b[1;32m----> 1\u001b[0m \u001b[38;5;28;01mfrom\u001b[39;00m \u001b[38;5;21;01mgoogle\u001b[39;00m\u001b[38;5;21;01m.\u001b[39;00m\u001b[38;5;21;01mcolab\u001b[39;00m \u001b[38;5;28;01mimport\u001b[39;00m drive\n\u001b[0;32m      2\u001b[0m \u001b[38;5;28;01mimport\u001b[39;00m \u001b[38;5;21;01msubprocess\u001b[39;00m\n\u001b[0;32m      3\u001b[0m \u001b[38;5;28;01mimport\u001b[39;00m \u001b[38;5;21;01mjson\u001b[39;00m\n",
      "\u001b[1;31mModuleNotFoundError\u001b[0m: No module named 'google'"
     ]
    }
   ],
   "source": [
    "from google.colab import drive\n",
    "import subprocess\n",
    "import json\n",
    "import time\n",
    "\n",
    "# Mount Google Drive\n",
    "drive.mount('/content/drive')\n",
    "\n",
    "# Define your 20 configurations\n",
    "configurations = [\n",
    "    {\n",
    "        \"param1\": \"BoxScoreAdvancedV3\",\n",
    "        \"param2\": \"0\",\n",
    "        # ... configuration 1\n",
    "    },\n",
    "    {\n",
    "        \"param1\": \"BoxScoreAdvancedV3\",\n",
    "        \"param2\": \"1\",\n",
    "        # ... configuration 2\n",
    "    },\n",
    "    # ... repeat for all 20 configurations\n",
    "]\n",
    "\n",
    "# Path to your notebook\n",
    "NOTEBOOK_PATH = \"google.ipynb\"  # Update this with your notebook name\n",
    "\n",
    "# Run notebooks sequentially\n",
    "for i, config in enumerate(configurations):\n",
    "    print(f\"Starting configuration {i+1}/20\")\n",
    "    \n",
    "    # Save configuration to a temporary file\n",
    "    config_path = f'/content/drive/MyDrive/Colab Notebooks/nbarun/config_{i}.json'\n",
    "    with open(config_path, 'w') as f:\n",
    "        json.dump(config, f)\n",
    "    \n",
    "    # Run notebook with papermill\n",
    "    output_path = f'/content/drive/MyDrive/Colab Notebooks/nbarun/output_notebook_{i}.ipynb'\n",
    "    cmd = f\"papermill {NOTEBOOK_PATH} {output_path} -p config_path {config_path}\"\n",
    "    \n",
    "    try:\n",
    "        subprocess.run(cmd, shell=True, check=True)\n",
    "        print(f\"Configuration {i+1} completed successfully\")\n",
    "    except subprocess.CalledProcessError as e:\n",
    "        print(f\"Error running configuration {i+1}: {e}\")\n",
    "        continue\n",
    "\n",
    "print(\"All configurations completed\")"
   ]
  }
 ],
 "metadata": {
  "kernelspec": {
   "display_name": ".venv",
   "language": "python",
   "name": "python3"
  },
  "language_info": {
   "codemirror_mode": {
    "name": "ipython",
    "version": 3
   },
   "file_extension": ".py",
   "mimetype": "text/x-python",
   "name": "python",
   "nbconvert_exporter": "python",
   "pygments_lexer": "ipython3",
   "version": "3.12.6"
  }
 },
 "nbformat": 4,
 "nbformat_minor": 2
}
