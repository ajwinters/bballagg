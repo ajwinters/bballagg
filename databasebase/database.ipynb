{
 "cells": [
  {
   "cell_type": "code",
   "execution_count": 7,
   "metadata": {},
   "outputs": [],
   "source": [
    "import pandas as pd\n",
    "import time\n",
    "import numpy as np\n",
    "from nba_api.stats.endpoints import playercareerstats\n",
    "import nba_api.stats.endpoints as nbaapi\n",
    "import boto3\n",
    "from nba_api.stats.endpoints import LeagueGameFinder, LeagueDashPlayerBioStats\n",
    "from nba_api.stats.endpoints import leaguegamefinder\n",
    "import psycopg2\n",
    "import sys\n",
    "import allinone\n",
    "\n",
    "pd.set_option('display.max_columns', 500)\n",
    "\n",
    "# Example usage\n",
    "db_name = \"thebigone\"\n",
    "username = \"ajwin\"\n",
    "password = \"CharlesBark!23\"\n",
    "host = \"nba-rds-instance.c9wwc0ukkiu5.us-east-1.rds.amazonaws.com\"\n"
   ]
  },
  {
   "cell_type": "code",
   "execution_count": 6,
   "metadata": {},
   "outputs": [
    {
     "name": "stdout",
     "output_type": "stream",
     "text": [
      "['C:\\\\Users\\\\ajwin\\\\AppData\\\\Local\\\\Programs\\\\Python\\\\Python312\\\\python312.zip', 'C:\\\\Users\\\\ajwin\\\\AppData\\\\Local\\\\Programs\\\\Python\\\\Python312\\\\DLLs', 'C:\\\\Users\\\\ajwin\\\\AppData\\\\Local\\\\Programs\\\\Python\\\\Python312\\\\Lib', 'C:\\\\Users\\\\ajwin\\\\AppData\\\\Local\\\\Programs\\\\Python\\\\Python312', 'c:\\\\Users\\\\ajwin\\\\Projects\\\\NBA\\\\thebigone\\\\.venv', '', 'c:\\\\Users\\\\ajwin\\\\Projects\\\\NBA\\\\thebigone\\\\.venv\\\\Lib\\\\site-packages', 'c:\\\\Users\\\\ajwin\\\\Projects\\\\NBA\\\\thebigone\\\\.venv\\\\Lib\\\\site-packages\\\\win32', 'c:\\\\Users\\\\ajwin\\\\Projects\\\\NBA\\\\thebigone\\\\.venv\\\\Lib\\\\site-packages\\\\win32\\\\lib', 'c:\\\\Users\\\\ajwin\\\\Projects\\\\NBA\\\\thebigone\\\\.venv\\\\Lib\\\\site-packages\\\\Pythonwin']\n"
     ]
    }
   ],
   "source": []
  },
  {
   "cell_type": "code",
   "execution_count": 3,
   "metadata": {},
   "outputs": [
    {
     "name": "stdout",
     "output_type": "stream",
     "text": [
      "RDS instance nba-rds-instance creation initiated.\n"
     ]
    },
    {
     "data": {
      "text/plain": [
       "{'DBInstance': {'DBInstanceIdentifier': 'nba-rds-instance',\n",
       "  'DBInstanceClass': 'db.t3.micro',\n",
       "  'Engine': 'postgres',\n",
       "  'DBInstanceStatus': 'creating',\n",
       "  'MasterUsername': 'ajwin',\n",
       "  'DBName': 'thebigone',\n",
       "  'AllocatedStorage': 20,\n",
       "  'PreferredBackupWindow': '06:40-07:10',\n",
       "  'BackupRetentionPeriod': 7,\n",
       "  'DBSecurityGroups': [],\n",
       "  'VpcSecurityGroups': [{'VpcSecurityGroupId': 'sg-048e804df880ce6ca',\n",
       "    'Status': 'active'}],\n",
       "  'DBParameterGroups': [{'DBParameterGroupName': 'default.postgres16',\n",
       "    'ParameterApplyStatus': 'in-sync'}],\n",
       "  'DBSubnetGroup': {'DBSubnetGroupName': 'default',\n",
       "   'DBSubnetGroupDescription': 'default',\n",
       "   'VpcId': 'vpc-0da11b2b953a7cab5',\n",
       "   'SubnetGroupStatus': 'Complete',\n",
       "   'Subnets': [{'SubnetIdentifier': 'subnet-02fedebb493b9a06e',\n",
       "     'SubnetAvailabilityZone': {'Name': 'us-east-1c'},\n",
       "     'SubnetOutpost': {},\n",
       "     'SubnetStatus': 'Active'},\n",
       "    {'SubnetIdentifier': 'subnet-0c8f0f9dc389265c1',\n",
       "     'SubnetAvailabilityZone': {'Name': 'us-east-1e'},\n",
       "     'SubnetOutpost': {},\n",
       "     'SubnetStatus': 'Active'},\n",
       "    {'SubnetIdentifier': 'subnet-0b2cb30a726aa1ee4',\n",
       "     'SubnetAvailabilityZone': {'Name': 'us-east-1b'},\n",
       "     'SubnetOutpost': {},\n",
       "     'SubnetStatus': 'Active'},\n",
       "    {'SubnetIdentifier': 'subnet-02c40e50e71311aef',\n",
       "     'SubnetAvailabilityZone': {'Name': 'us-east-1d'},\n",
       "     'SubnetOutpost': {},\n",
       "     'SubnetStatus': 'Active'},\n",
       "    {'SubnetIdentifier': 'subnet-096b63e3299aad296',\n",
       "     'SubnetAvailabilityZone': {'Name': 'us-east-1a'},\n",
       "     'SubnetOutpost': {},\n",
       "     'SubnetStatus': 'Active'},\n",
       "    {'SubnetIdentifier': 'subnet-0c0f1cfd2710ab3b9',\n",
       "     'SubnetAvailabilityZone': {'Name': 'us-east-1f'},\n",
       "     'SubnetOutpost': {},\n",
       "     'SubnetStatus': 'Active'}]},\n",
       "  'PreferredMaintenanceWindow': 'wed:09:50-wed:10:20',\n",
       "  'PendingModifiedValues': {'MasterUserPassword': '****'},\n",
       "  'MultiAZ': False,\n",
       "  'EngineVersion': '16.3',\n",
       "  'AutoMinorVersionUpgrade': True,\n",
       "  'ReadReplicaDBInstanceIdentifiers': [],\n",
       "  'LicenseModel': 'postgresql-license',\n",
       "  'OptionGroupMemberships': [{'OptionGroupName': 'default:postgres-16',\n",
       "    'Status': 'in-sync'}],\n",
       "  'PubliclyAccessible': False,\n",
       "  'StorageType': 'gp2',\n",
       "  'DbInstancePort': 0,\n",
       "  'StorageEncrypted': False,\n",
       "  'DbiResourceId': 'db-7AH6YTAKFOZGDIP4JLV246UYXY',\n",
       "  'CACertificateIdentifier': 'rds-ca-rsa2048-g1',\n",
       "  'DomainMemberships': [],\n",
       "  'CopyTagsToSnapshot': False,\n",
       "  'MonitoringInterval': 0,\n",
       "  'DBInstanceArn': 'arn:aws:rds:us-east-1:585768178063:db:nba-rds-instance',\n",
       "  'IAMDatabaseAuthenticationEnabled': False,\n",
       "  'PerformanceInsightsEnabled': False,\n",
       "  'DeletionProtection': False,\n",
       "  'AssociatedRoles': [],\n",
       "  'TagList': [],\n",
       "  'CustomerOwnedIpEnabled': False,\n",
       "  'BackupTarget': 'region',\n",
       "  'NetworkType': 'IPV4',\n",
       "  'StorageThroughput': 0,\n",
       "  'CertificateDetails': {'CAIdentifier': 'rds-ca-rsa2048-g1'},\n",
       "  'DedicatedLogVolume': False,\n",
       "  'EngineLifecycleSupport': 'open-source-rds-extended-support'},\n",
       " 'ResponseMetadata': {'RequestId': 'c42f888d-9d77-4067-8052-fe87a6cd73cf',\n",
       "  'HTTPStatusCode': 200,\n",
       "  'HTTPHeaders': {'x-amzn-requestid': 'c42f888d-9d77-4067-8052-fe87a6cd73cf',\n",
       "   'strict-transport-security': 'max-age=31536000',\n",
       "   'content-type': 'text/xml',\n",
       "   'content-length': '4136',\n",
       "   'date': 'Thu, 19 Sep 2024 00:24:11 GMT'},\n",
       "  'RetryAttempts': 0}}"
      ]
     },
     "execution_count": 3,
     "metadata": {},
     "output_type": "execute_result"
    }
   ],
   "source": [
    "# CREATE DATABASE\n",
    "\n",
    "# create_rds_instance(\"nba-rds-instance\",\"thebigone\",\"ajwin\",\"CharlesBark!23\")\n"
   ]
  },
  {
   "cell_type": "code",
   "execution_count": 6,
   "metadata": {},
   "outputs": [],
   "source": [
    "\n",
    "\n"
   ]
  },
  {
   "cell_type": "code",
   "execution_count": 4,
   "metadata": {},
   "outputs": [
    {
     "name": "stdout",
     "output_type": "stream",
     "text": [
      "Connected to RDS database\n"
     ]
    }
   ],
   "source": [
    "\n",
    "\n",
    "# Create a table in PostgreSQL\n",
    "\n",
    "# Data type mapping from pandas to PostgreSQL\n",
    "\n",
    "\n",
    "conn = dbfuncs.connect_to_rds(db_name, username, password, host)\n"
   ]
  },
  {
   "cell_type": "code",
   "execution_count": 7,
   "metadata": {},
   "outputs": [
    {
     "name": "stdout",
     "output_type": "stream",
     "text": [
      "Table games created successfully with inferred schema.\n",
      "10815 records inserted into games successfully.\n",
      "Table players created successfully with inferred schema.\n",
      "2256 records inserted into players successfully.\n"
     ]
    }
   ],
   "source": [
    "\n",
    "dbfuncs.delete_table(conn,table_name=\"players\")\n",
    "dbfuncs.delete_table(conn,table_name=\"games\")\n",
    "\n",
    "\n",
    "# Get and insert games data\n",
    "games_data = dbfuncs.get_games_data()\n",
    "dbfuncs.create_table(conn, \"games\", games_data)\n",
    "dbfuncs.insert_dataframe(conn, \"games\", games_data)\n",
    "\n",
    "# Get and insert players data\n",
    "players_data = dbfuncs.get_players_data()\n",
    "dbfuncs.create_table(conn, \"players\", players_data)\n",
    "dbfuncs.insert_dataframe(conn, \"players\", players_data)\n"
   ]
  },
  {
   "cell_type": "code",
   "execution_count": 5,
   "metadata": {},
   "outputs": [
    {
     "name": "stdout",
     "output_type": "stream",
     "text": [
      "Table players deleted successfully.\n",
      "Table games deleted successfully.\n"
     ]
    }
   ],
   "source": [
    "\n",
    "# Function to delete a table from the PostgreSQL database\n"
   ]
  },
  {
   "cell_type": "code",
   "execution_count": 23,
   "metadata": {},
   "outputs": [
    {
     "name": "stdout",
     "output_type": "stream",
     "text": [
      "Connected to RDS database\n"
     ]
    },
    {
     "name": "stderr",
     "output_type": "stream",
     "text": [
      "C:\\Users\\ajwin\\AppData\\Local\\Temp\\ipykernel_84252\\3665034828.py:23: UserWarning: pandas only supports SQLAlchemy connectable (engine/connection) or database string URI or sqlite3 DBAPI2 connection. Other DBAPI2 objects are not tested. Please consider using SQLAlchemy.\n",
      "  dataframe = pd.read_sql(query, conn)\n"
     ]
    }
   ],
   "source": [
    "#############################################################\n",
    "#############################################################\n",
    "\n",
    "def connect_to_rds(db_name, username, password, host, port=5432):\n",
    "    try:\n",
    "        conn = psycopg2.connect(\n",
    "            dbname=db_name,\n",
    "            user=username,\n",
    "            password=password,\n",
    "            host=host,\n",
    "            port=port\n",
    "        )\n",
    "        print(\"Connected to RDS database\")\n",
    "        return conn\n",
    "    except Exception as e:\n",
    "        print(f\"Error connecting to RDS: {str(e)}\")\n",
    "        return None\n",
    "    \n",
    "# Query the database and return results as a pandas dataframe\n",
    "def query_database_to_dataframe(conn, query):\n",
    "    try:\n",
    "        # Read the query result into a pandas dataframe\n",
    "        dataframe = pd.read_sql(query, conn)\n",
    "        return dataframe\n",
    "    except Exception as e:\n",
    "        print(f\"Error executing query: {str(e)}\")\n",
    "        return None\n",
    "\n",
    "# Connect to the RDS database\n",
    "conn = connect_to_rds(db_name, username, password, host)\n",
    "\n",
    "# Define your SQL query\n",
    "query = \"SELECT * FROM playerids;\"  # Example query: fetch 10 rows from the 'games' table\n",
    "\n",
    "# Execute the query and store the result in a pandas dataframe\n",
    "if conn:\n",
    "    result_df = query_database_to_dataframe(conn, query)\n",
    "\n",
    "\n",
    "# Close the connection\n",
    "conn.close()"
   ]
  },
  {
   "cell_type": "code",
   "execution_count": 24,
   "metadata": {},
   "outputs": [
    {
     "data": {
      "text/html": [
       "<div>\n",
       "<style scoped>\n",
       "    .dataframe tbody tr th:only-of-type {\n",
       "        vertical-align: middle;\n",
       "    }\n",
       "\n",
       "    .dataframe tbody tr th {\n",
       "        vertical-align: top;\n",
       "    }\n",
       "\n",
       "    .dataframe thead th {\n",
       "        text-align: right;\n",
       "    }\n",
       "</style>\n",
       "<table border=\"1\" class=\"dataframe\">\n",
       "  <thead>\n",
       "    <tr style=\"text-align: right;\">\n",
       "      <th></th>\n",
       "      <th>id</th>\n",
       "      <th>full_name</th>\n",
       "      <th>first_name</th>\n",
       "      <th>last_name</th>\n",
       "      <th>is_active</th>\n",
       "    </tr>\n",
       "  </thead>\n",
       "  <tbody>\n",
       "    <tr>\n",
       "      <th>0</th>\n",
       "      <td>76001</td>\n",
       "      <td>Alaa Abdelnaby</td>\n",
       "      <td>Alaa</td>\n",
       "      <td>Abdelnaby</td>\n",
       "      <td>False</td>\n",
       "    </tr>\n",
       "    <tr>\n",
       "      <th>1</th>\n",
       "      <td>76002</td>\n",
       "      <td>Zaid Abdul-Aziz</td>\n",
       "      <td>Zaid</td>\n",
       "      <td>Abdul-Aziz</td>\n",
       "      <td>False</td>\n",
       "    </tr>\n",
       "    <tr>\n",
       "      <th>2</th>\n",
       "      <td>76003</td>\n",
       "      <td>Kareem Abdul-Jabbar</td>\n",
       "      <td>Kareem</td>\n",
       "      <td>Abdul-Jabbar</td>\n",
       "      <td>False</td>\n",
       "    </tr>\n",
       "    <tr>\n",
       "      <th>3</th>\n",
       "      <td>51</td>\n",
       "      <td>Mahmoud Abdul-Rauf</td>\n",
       "      <td>Mahmoud</td>\n",
       "      <td>Abdul-Rauf</td>\n",
       "      <td>False</td>\n",
       "    </tr>\n",
       "    <tr>\n",
       "      <th>4</th>\n",
       "      <td>1505</td>\n",
       "      <td>Tariq Abdul-Wahad</td>\n",
       "      <td>Tariq</td>\n",
       "      <td>Abdul-Wahad</td>\n",
       "      <td>False</td>\n",
       "    </tr>\n",
       "    <tr>\n",
       "      <th>...</th>\n",
       "      <td>...</td>\n",
       "      <td>...</td>\n",
       "      <td>...</td>\n",
       "      <td>...</td>\n",
       "      <td>...</td>\n",
       "    </tr>\n",
       "    <tr>\n",
       "      <th>15052</th>\n",
       "      <td>78647</td>\n",
       "      <td>Jim Zoet</td>\n",
       "      <td>Jim</td>\n",
       "      <td>Zoet</td>\n",
       "      <td>False</td>\n",
       "    </tr>\n",
       "    <tr>\n",
       "      <th>15053</th>\n",
       "      <td>78648</td>\n",
       "      <td>Bill Zopf</td>\n",
       "      <td>Bill</td>\n",
       "      <td>Zopf</td>\n",
       "      <td>False</td>\n",
       "    </tr>\n",
       "    <tr>\n",
       "      <th>15054</th>\n",
       "      <td>1627826</td>\n",
       "      <td>Ivica Zubac</td>\n",
       "      <td>Ivica</td>\n",
       "      <td>Zubac</td>\n",
       "      <td>True</td>\n",
       "    </tr>\n",
       "    <tr>\n",
       "      <th>15055</th>\n",
       "      <td>78650</td>\n",
       "      <td>Matt Zunic</td>\n",
       "      <td>Matt</td>\n",
       "      <td>Zunic</td>\n",
       "      <td>False</td>\n",
       "    </tr>\n",
       "    <tr>\n",
       "      <th>15056</th>\n",
       "      <td>1641783</td>\n",
       "      <td>Tristan da Silva</td>\n",
       "      <td>Tristan</td>\n",
       "      <td>da Silva</td>\n",
       "      <td>False</td>\n",
       "    </tr>\n",
       "  </tbody>\n",
       "</table>\n",
       "<p>15057 rows × 5 columns</p>\n",
       "</div>"
      ],
      "text/plain": [
       "            id            full_name first_name     last_name  is_active\n",
       "0        76001       Alaa Abdelnaby       Alaa     Abdelnaby      False\n",
       "1        76002      Zaid Abdul-Aziz       Zaid    Abdul-Aziz      False\n",
       "2        76003  Kareem Abdul-Jabbar     Kareem  Abdul-Jabbar      False\n",
       "3           51   Mahmoud Abdul-Rauf    Mahmoud    Abdul-Rauf      False\n",
       "4         1505    Tariq Abdul-Wahad      Tariq   Abdul-Wahad      False\n",
       "...        ...                  ...        ...           ...        ...\n",
       "15052    78647             Jim Zoet        Jim          Zoet      False\n",
       "15053    78648            Bill Zopf       Bill          Zopf      False\n",
       "15054  1627826          Ivica Zubac      Ivica         Zubac       True\n",
       "15055    78650           Matt Zunic       Matt         Zunic      False\n",
       "15056  1641783     Tristan da Silva    Tristan      da Silva      False\n",
       "\n",
       "[15057 rows x 5 columns]"
      ]
     },
     "execution_count": 24,
     "metadata": {},
     "output_type": "execute_result"
    }
   ],
   "source": [
    "result_df"
   ]
  },
  {
   "cell_type": "code",
   "execution_count": null,
   "metadata": {},
   "outputs": [],
   "source": []
  }
 ],
 "metadata": {
  "kernelspec": {
   "display_name": ".venv",
   "language": "python",
   "name": "python3"
  },
  "language_info": {
   "codemirror_mode": {
    "name": "ipython",
    "version": 3
   },
   "file_extension": ".py",
   "mimetype": "text/x-python",
   "name": "python",
   "nbconvert_exporter": "python",
   "pygments_lexer": "ipython3",
   "version": "3.12.6"
  }
 },
 "nbformat": 4,
 "nbformat_minor": 2
}
