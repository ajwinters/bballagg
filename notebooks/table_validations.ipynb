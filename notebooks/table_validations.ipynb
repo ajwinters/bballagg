{
 "cells": [
  {
   "cell_type": "code",
   "execution_count": 3,
   "id": "8bdc3e7c",
   "metadata": {},
   "outputs": [
    {
     "name": "stderr",
     "output_type": "stream",
     "text": [
      "C:\\Users\\ajwin\\AppData\\Local\\Temp\\ipykernel_17312\\2809319141.py:18: UserWarning: pandas only supports SQLAlchemy connectable (engine/connection) or database string URI or sqlite3 DBAPI2 connection. Other DBAPI2 objects are not tested. Please consider using SQLAlchemy.\n",
      "  nba_games_df = pd.read_sql_query(\"SELECT * FROM wnba_games ORDER BY gameid\", conn)\n"
     ]
    }
   ],
   "source": [
    "import pandas as pd\n",
    "import psycopg2\n",
    "import json\n",
    "\n",
    "with open('../endpoints/config/database_config.json', 'r') as f:\n",
    "    config = json.load(f)\n",
    "\n",
    "conn = psycopg2.connect(\n",
    "    host=config['host'],\n",
    "    database=config['name'],\n",
    "    user=config['user'],\n",
    "    password=config['password'],\n",
    "    port=config['port']\n",
    ")\n",
    "\n",
    "# Use existing connection\n",
    "# Load NBA master games into dataframe\n",
    "nba_games_df = pd.read_sql_query(\"SELECT * FROM wnba_games ORDER BY gameid\", conn)\n"
   ]
  },
  {
   "cell_type": "code",
   "execution_count": 4,
   "id": "8efff94c",
   "metadata": {},
   "outputs": [
    {
     "name": "stdout",
     "output_type": "stream",
     "text": [
      "🔍 GAMES COLLECTION ANALYSIS\n",
      "==================================================\n"
     ]
    },
    {
     "name": "stderr",
     "output_type": "stream",
     "text": [
      "C:\\Users\\ajwin\\AppData\\Local\\Temp\\ipykernel_17312\\1461087976.py:12: UserWarning: pandas only supports SQLAlchemy connectable (engine/connection) or database string URI or sqlite3 DBAPI2 connection. Other DBAPI2 objects are not tested. Please consider using SQLAlchemy.\n",
      "  master_games_df = pd.read_sql_query(master_games_query, conn)\n"
     ]
    },
    {
     "name": "stdout",
     "output_type": "stream",
     "text": [
      "📊 Master Games (all leagues): 52,782\n"
     ]
    },
    {
     "name": "stderr",
     "output_type": "stream",
     "text": [
      "C:\\Users\\ajwin\\AppData\\Local\\Temp\\ipykernel_17312\\1461087976.py:26: UserWarning: pandas only supports SQLAlchemy connectable (engine/connection) or database string URI or sqlite3 DBAPI2 connection. Other DBAPI2 objects are not tested. Please consider using SQLAlchemy.\n",
      "  pd.read_sql_query(test_query, conn)\n",
      "C:\\Users\\ajwin\\AppData\\Local\\Temp\\ipykernel_17312\\1461087976.py:30: UserWarning: pandas only supports SQLAlchemy connectable (engine/connection) or database string URI or sqlite3 DBAPI2 connection. Other DBAPI2 objects are not tested. Please consider using SQLAlchemy.\n",
      "  games_df = pd.read_sql_query(f\"SELECT DISTINCT gameid FROM {table_name}\", conn)\n",
      "C:\\Users\\ajwin\\AppData\\Local\\Temp\\ipykernel_17312\\1461087976.py:30: UserWarning: pandas only supports SQLAlchemy connectable (engine/connection) or database string URI or sqlite3 DBAPI2 connection. Other DBAPI2 objects are not tested. Please consider using SQLAlchemy.\n",
      "  games_df = pd.read_sql_query(f\"SELECT DISTINCT gameid FROM {table_name}\", conn)\n"
     ]
    },
    {
     "name": "stdout",
     "output_type": "stream",
     "text": [
      "✅ nba_boxscoretraditionalv3_0: 25,813 games\n",
      "✅ nba_boxscoretraditionalv3_1: 25,812 games\n",
      "✅ nba_boxscoretraditionalv3_1: 25,812 games\n",
      "✅ nba_boxscoretraditionalv3_2: 25,812 games\n",
      "✅ nba_boxscoretraditionalv3_2: 25,812 games\n",
      "📊 Total BoxScore Traditional V3 Games: 25,813\n",
      "📋 Found tables: ['nba_boxscoretraditionalv3_0', 'nba_boxscoretraditionalv3_1', 'nba_boxscoretraditionalv3_2']\n",
      "📊 Total BoxScore Traditional V3 Games: 25,813\n",
      "📋 Found tables: ['nba_boxscoretraditionalv3_0', 'nba_boxscoretraditionalv3_1', 'nba_boxscoretraditionalv3_2']\n"
     ]
    },
    {
     "name": "stderr",
     "output_type": "stream",
     "text": [
      "C:\\Users\\ajwin\\AppData\\Local\\Temp\\ipykernel_17312\\1461087976.py:48: UserWarning: pandas only supports SQLAlchemy connectable (engine/connection) or database string URI or sqlite3 DBAPI2 connection. Other DBAPI2 objects are not tested. Please consider using SQLAlchemy.\n",
      "  failed_games_df = pd.read_sql_query(\n"
     ]
    },
    {
     "name": "stdout",
     "output_type": "stream",
     "text": [
      "🚫 Failed API Calls: 26,058\n",
      "\n",
      "📈 BREAKDOWN:\n",
      "   ✅ Successfully Collected: 25,813\n",
      "   🚫 Attempted but Failed: 26,058\n",
      "   ❓ Never Attempted: 20,627\n",
      "   🎯 TOTAL MISSING: 46,685\n",
      "\n",
      "📊 PERCENTAGES:\n",
      "   ✅ Success Rate: 48.9%\n",
      "   🚫 Failed Rate: 49.4%\n",
      "   ❓ Never Attempted: 39.1%\n",
      "\n",
      "🎯 GAMES LEFT TO PULL: 26,969\n",
      "==================================================\n"
     ]
    }
   ],
   "source": [
    "# Compare Master Games vs Endpoint Data vs Failed API Calls\n",
    "print(\"🔍 GAMES COLLECTION ANALYSIS\")\n",
    "print(\"=\"*50)\n",
    "\n",
    "# Get all master games (all leagues)\n",
    "master_games_query = \"\"\"\n",
    "SELECT DISTINCT gameid FROM (\n",
    "    SELECT gameid FROM nba_games\n",
    ") AS all_games\n",
    "ORDER BY gameid\n",
    "\"\"\"\n",
    "master_games_df = pd.read_sql_query(master_games_query, conn)\n",
    "master_gameids = set(master_games_df['gameid'])\n",
    "\n",
    "print(f\"📊 Master Games (all leagues): {len(master_gameids):,}\")\n",
    "\n",
    "# Get games from boxscoretraditionalv3 endpoint tables (with league prefix and _n suffix)\n",
    "endpoint_gameids = set()\n",
    "boxscore_tables = []\n",
    "\n",
    "# Check for NBA boxscoretraditionalv3 tables with nba_ prefix and _n suffix\n",
    "for i in range(10):  # Check _0 through _9\n",
    "    table_name = f\"nba_boxscoretraditionalv3_{i}\"\n",
    "    try:\n",
    "        test_query = f\"SELECT COUNT(*) FROM {table_name}\"\n",
    "        pd.read_sql_query(test_query, conn)\n",
    "        boxscore_tables.append(table_name)\n",
    "        \n",
    "        # Get gameids from this table\n",
    "        games_df = pd.read_sql_query(f\"SELECT DISTINCT gameid FROM {table_name}\", conn)\n",
    "        table_gameids = set(games_df['gameid'])\n",
    "        endpoint_gameids.update(table_gameids)\n",
    "        print(f\"✅ {table_name}: {len(table_gameids):,} games\")\n",
    "        \n",
    "    except Exception:\n",
    "        # Table doesn't exist, skip\n",
    "        continue\n",
    "\n",
    "if endpoint_gameids:\n",
    "    print(f\"📊 Total BoxScore Traditional V3 Games: {len(endpoint_gameids):,}\")\n",
    "else:\n",
    "    print(f\"❌ BoxScore Traditional V3: No tables found\")\n",
    "    \n",
    "print(f\"📋 Found tables: {boxscore_tables}\")\n",
    "\n",
    "# Get failed API calls\n",
    "try:\n",
    "    failed_games_df = pd.read_sql_query(\n",
    "        \"SELECT DISTINCT id_value as gameid FROM failed_api_calls WHERE id_column = 'gameid'\", \n",
    "        conn\n",
    "    )\n",
    "    failed_gameids = set(failed_games_df['gameid'])\n",
    "    print(f\"🚫 Failed API Calls: {len(failed_gameids):,}\")\n",
    "except Exception as e:\n",
    "    print(f\"❌ Failed API Calls: Table not found or empty\")\n",
    "    failed_gameids = set()\n",
    "\n",
    "# Calculate what's missing\n",
    "successfully_collected = endpoint_gameids\n",
    "attempted_but_failed = failed_gameids\n",
    "never_attempted = master_gameids - successfully_collected - attempted_but_failed\n",
    "\n",
    "print(f\"\\n📈 BREAKDOWN:\")\n",
    "print(f\"   ✅ Successfully Collected: {len(successfully_collected):,}\")\n",
    "print(f\"   🚫 Attempted but Failed: {len(attempted_but_failed):,}\")\n",
    "print(f\"   ❓ Never Attempted: {len(never_attempted):,}\")\n",
    "print(f\"   🎯 TOTAL MISSING: {len(attempted_but_failed) + len(never_attempted):,}\")\n",
    "\n",
    "# Calculate percentages\n",
    "if len(master_gameids) > 0:\n",
    "    success_pct = (len(successfully_collected) / len(master_gameids)) * 100\n",
    "    failed_pct = (len(attempted_but_failed) / len(master_gameids)) * 100\n",
    "    never_pct = (len(never_attempted) / len(master_gameids)) * 100\n",
    "    \n",
    "    print(f\"\\n📊 PERCENTAGES:\")\n",
    "    print(f\"   ✅ Success Rate: {success_pct:.1f}%\")\n",
    "    print(f\"   🚫 Failed Rate: {failed_pct:.1f}%\") \n",
    "    print(f\"   ❓ Never Attempted: {never_pct:.1f}%\")\n",
    "\n",
    "print(f\"\\n🎯 GAMES LEFT TO PULL: {len(master_gameids) - len(successfully_collected):,}\")\n",
    "print(\"=\"*50)"
   ]
  },
  {
   "cell_type": "code",
   "execution_count": null,
   "id": "f02eb451",
   "metadata": {},
   "outputs": [],
   "source": [
    "# Show sample games from each category\n",
    "print(\"\\n📋 SAMPLE GAMES BY CATEGORY\")\n",
    "print(\"=\"*40)\n",
    "\n",
    "if successfully_collected:\n",
    "    print(f\"\\n✅ SUCCESSFULLY COLLECTED (showing first 5):\")\n",
    "    sample_success = sorted(list(successfully_collected))[:5]\n",
    "    for game in sample_success:\n",
    "        print(f\"   {game}\")\n",
    "else:\n",
    "    print(f\"\\n✅ SUCCESSFULLY COLLECTED: None\")\n",
    "\n",
    "if attempted_but_failed:\n",
    "    print(f\"\\n🚫 ATTEMPTED BUT FAILED (showing first 5):\")\n",
    "    sample_failed = sorted(list(attempted_but_failed))[:5]\n",
    "    for game in sample_failed:\n",
    "        print(f\"   {game}\")\n",
    "else:\n",
    "    print(f\"\\n🚫 ATTEMPTED BUT FAILED: None\")\n",
    "\n",
    "if never_attempted:\n",
    "    print(f\"\\n❓ NEVER ATTEMPTED (showing first 10):\")\n",
    "    sample_never = sorted(list(never_attempted))[:10]\n",
    "    for game in sample_never:\n",
    "        print(f\"   {game}\")\n",
    "        \n",
    "    print(f\"\\n🎯 PRIORITY FOR NEXT COLLECTION:\")\n",
    "    print(f\"   Focus on the {len(never_attempted):,} games that were never attempted\")\n",
    "    print(f\"   Consider retrying the {len(attempted_but_failed):,} games that failed\")\n",
    "else:\n",
    "    print(f\"\\n❓ NEVER ATTEMPTED: None\")\n",
    "\n",
    "print(\"=\"*40)"
   ]
  }
 ],
 "metadata": {
  "kernelspec": {
   "display_name": ".venv",
   "language": "python",
   "name": "python3"
  },
  "language_info": {
   "codemirror_mode": {
    "name": "ipython",
    "version": 3
   },
   "file_extension": ".py",
   "mimetype": "text/x-python",
   "name": "python",
   "nbconvert_exporter": "python",
   "pygments_lexer": "ipython3",
   "version": "3.12.3"
  }
 },
 "nbformat": 4,
 "nbformat_minor": 5
}
