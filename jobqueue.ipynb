{
 "cells": [
  {
   "cell_type": "code",
   "execution_count": 51,
   "metadata": {},
   "outputs": [
    {
     "name": "stdout",
     "output_type": "stream",
     "text": [
      "Submitted job for BoxScoreAdvancedV3: 5c672e82-da57-4005-bec3-2f9667412b54\n"
     ]
    }
   ],
   "source": [
    "import boto3\n",
    "import json\n",
    "\n",
    "# Initialize Batch client\n",
    "batch_client = boto3.client(\"batch\", region_name=\"us-east-1\")\n",
    "\n",
    "# List of parameters for each job\n",
    "# parameters = [{\"param1\": \"boxscoreadvancedv3.BoxScoreAdvancedV3\", \"param2\": \"1\"},\n",
    "#               {\"param1\": \"boxscoretraditionalv3.BoxScoreTraditionalV3\", \"param2\": \"2\"}]\n",
    "\n",
    "func1 = \"BoxScoreAdvancedV3\"\n",
    "index1 = \"1\"\n",
    "\n",
    "response = batch_client.submit_job(\n",
    "    jobName=f\"process-data-{func1}\",\n",
    "    jobQueue=\"fargate-job-queue\",\n",
    "    jobDefinition=\"fargate-job-definition:2\",\n",
    "    containerOverrides={\n",
    "        \"command\": [\"python\", \"games_process.py\", func1, index1],\n",
    "    }\n",
    ")\n",
    "\n",
    "print(f\"Submitted job for {func1}: {response['jobId']}\")\n"
   ]
  },
  {
   "cell_type": "code",
   "execution_count": 31,
   "metadata": {},
   "outputs": [
    {
     "name": "stdout",
     "output_type": "stream",
     "text": [
      "Job Definition ARN: arn:aws:batch:us-east-1:585768178063:job-definition/fargate-job-definition:2\n"
     ]
    }
   ],
   "source": [
    "import boto3\n",
    "\n",
    "batch_client = boto3.client('batch', region_name='us-east-1')\n",
    "\n",
    "response = batch_client.register_job_definition(\n",
    "    jobDefinitionName='fargate-job-definition',\n",
    "    type='container',\n",
    "    containerProperties={\n",
    "        'image': '585768178063.dkr.ecr.us-east-1.amazonaws.com/nbabigone:latest',  # Replace with your ECR image URL\n",
    "        'command': ['python', 'games_process.py'],\n",
    "        'executionRoleArn': 'arn:aws:iam::585768178063:role/FargateBatchExecutionRole',  # Replace for Fargate\n",
    "        'jobRoleArn': 'arn:aws:iam::585768178063:role/FargateBatchExecutionRole',  # Replace with your job role ARN\n",
    "        'resourceRequirements': [\n",
    "            {\n",
    "                'type': 'VCPU',\n",
    "                'value': '1.0'\n",
    "            },\n",
    "            {\n",
    "                'type': 'MEMORY',\n",
    "                'value': '2048'\n",
    "            }\n",
    "        ],\n",
    "        'networkConfiguration': {\n",
    "            'assignPublicIp': 'ENABLED'  # For public subnets\n",
    "        },\n",
    "        'fargatePlatformConfiguration': {\n",
    "            'platformVersion': 'LATEST'\n",
    "        },\n",
    "        'environment': [\n",
    "            {\n",
    "                'name': 'YOUR_ENV_VAR',\n",
    "                'value': 'your_value'\n",
    "            }\n",
    "        ],\n",
    "        'logConfiguration': {\n",
    "            'logDriver': 'awslogs',\n",
    "            'options': {\n",
    "                'awslogs-group': '/aws/batch/job',\n",
    "                'awslogs-region': 'us-east-1',\n",
    "                'awslogs-stream-prefix': 'fargate-job'\n",
    "            }\n",
    "        }\n",
    "    },\n",
    "    platformCapabilities=[\n",
    "        'FARGATE',\n",
    "    ]\n",
    ")\n",
    "\n",
    "print(f\"Job Definition ARN: {response['jobDefinitionArn']}\")"
   ]
  },
  {
   "cell_type": "code",
   "execution_count": 50,
   "metadata": {},
   "outputs": [],
   "source": [
    "batch = boto3.client('batch', region_name='us-east-1')\n",
    "\n",
    "response = batch.register_job_definition(\n",
    "    jobDefinitionName='fargate-job-definition',\n",
    "    type='container',\n",
    "    containerProperties={\n",
    "        'image': 'your-ecr-repository-url:latest',  # Replace with your ECR image URL\n",
    "        'command': ['python', 'games_process.py'],\n",
    "        'executionRoleArn': 'arn:aws:iam::585768178063:role/FargateBatchExecutionRole',\n",
    "        'jobRoleArn': 'arn:aws:iam::585768178063:role/BatchTaskRole',  # Add the new task role\n",
    "        'resourceRequirements': [\n",
    "            {\n",
    "                'type': 'VCPU',\n",
    "                'value': '1.0'\n",
    "            },\n",
    "            {\n",
    "                'type': 'MEMORY',\n",
    "                'value': '2048'\n",
    "            }\n",
    "        ],\n",
    "        'networkConfiguration': {\n",
    "            'assignPublicIp': 'ENABLED'\n",
    "        },\n",
    "        'logConfiguration': {\n",
    "            'logDriver': 'awslogs',\n",
    "            'options': {\n",
    "                'awslogs-group': '/aws/batch/job',\n",
    "                'awslogs-region': 'us-east-1',\n",
    "                'awslogs-stream-prefix': 'fargate-job'\n",
    "            }\n",
    "        }\n",
    "    },\n",
    "    platformCapabilities=[\n",
    "        'FARGATE',\n",
    "    ]\n",
    ")"
   ]
  }
 ],
 "metadata": {
  "kernelspec": {
   "display_name": ".venv",
   "language": "python",
   "name": "python3"
  },
  "language_info": {
   "codemirror_mode": {
    "name": "ipython",
    "version": 3
   },
   "file_extension": ".py",
   "mimetype": "text/x-python",
   "name": "python",
   "nbconvert_exporter": "python",
   "pygments_lexer": "ipython3",
   "version": "3.12.6"
  }
 },
 "nbformat": 4,
 "nbformat_minor": 2
}
