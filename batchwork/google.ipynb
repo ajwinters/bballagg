{
 "cells": [
  {
   "cell_type": "code",
   "execution_count": 7,
   "metadata": {},
   "outputs": [
    {
     "name": "stdout",
     "output_type": "stream",
     "text": [
      "Connected to RDS PostgreSQL database\n",
      "Processing data for: ('BoxScoreAdvancedV3', '0')\n",
      "Master table boxscoreadvancedv3_playerstats created successfully.\n"
     ]
    },
    {
     "ename": "AttributeError",
     "evalue": "module 'rdshelp' has no attribute 'game_difference'",
     "output_type": "error",
     "traceback": [
      "\u001b[1;31m---------------------------------------------------------------------------\u001b[0m",
      "\u001b[1;31mAttributeError\u001b[0m                            Traceback (most recent call last)",
      "Cell \u001b[1;32mIn[7], line 43\u001b[0m\n\u001b[0;32m     40\u001b[0m             rdshelp\u001b[38;5;241m.\u001b[39minsert_dataframe_to_rds(conn,fdf,name)\n\u001b[0;32m     41\u001b[0m             \u001b[38;5;28mprint\u001b[39m(\u001b[38;5;124m\"\u001b[39m\u001b[38;5;124mAn error occurred:\u001b[39m\u001b[38;5;124m\"\u001b[39m, e)\n\u001b[1;32m---> 43\u001b[0m \u001b[43mgames_createandinsert\u001b[49m\u001b[43m(\u001b[49m\u001b[43mparam1\u001b[49m\u001b[43m,\u001b[49m\u001b[43mparam2\u001b[49m\u001b[43m)\u001b[49m\n",
      "Cell \u001b[1;32mIn[7], line 31\u001b[0m, in \u001b[0;36mgames_createandinsert\u001b[1;34m(func, index)\u001b[0m\n\u001b[0;32m     28\u001b[0m \u001b[38;5;66;03m### Creates Table if none exists\u001b[39;00m\n\u001b[0;32m     29\u001b[0m rdshelp\u001b[38;5;241m.\u001b[39mcreate_table(conn,name,df)\n\u001b[1;32m---> 31\u001b[0m gameslist \u001b[38;5;241m=\u001b[39m \u001b[43mrdshelp\u001b[49m\u001b[38;5;241;43m.\u001b[39;49m\u001b[43mgame_difference\u001b[49m(conn,name)\n\u001b[0;32m     33\u001b[0m \u001b[38;5;28;01mfor\u001b[39;00m i \u001b[38;5;129;01min\u001b[39;00m gameslist:\n\u001b[0;32m     34\u001b[0m     \u001b[38;5;28;01mtry\u001b[39;00m:\n",
      "\u001b[1;31mAttributeError\u001b[0m: module 'rdshelp' has no attribute 'game_difference'"
     ]
    }
   ],
   "source": [
    "import pandas as pd\n",
    "import time\n",
    "import nba_api.stats.endpoints as nbaapi\n",
    "from nba_api.stats.endpoints import *\n",
    "import rdshelp\n",
    "import json\n",
    "\n",
    "# Define parameters at the top - papermill will inject these values\n",
    "param1 = \"BoxScoreAdvancedV3\"  # Default value\n",
    "param2 = \"0\"  # Default value\n",
    "testgame = '0022201200'\n",
    "\n",
    "conn = rdshelp.connect_to_rds('thebigone', 'ajwin', 'CharlesBark!23', 'nba-rds-instance.c9wwc0ukkiu5.us-east-1.rds.amazonaws.com')\n",
    "\n",
    "def games_createandinsert(func,index):\n",
    "    print(f\"Processing data for: {func,index}\")\n",
    "    func = getattr(nbaapi,func)\n",
    "    index = int(index)\n",
    "    param = testgame\n",
    "    dfname = list(func.expected_data.keys())[index]\n",
    "\n",
    "    # need to replace with the endpoint class\n",
    "    namepre = func.__name__.lower()\n",
    "    name = namepre+\"_\"+dfname.lower()\n",
    "\n",
    "    df = func(param).get_data_frames()[index]\n",
    "\n",
    "    ### Creates Table if none exists\n",
    "    rdshelp.create_table(conn,name,df)\n",
    "\n",
    "    gameslist = rdshelp.game_difference(conn,name)\n",
    "\n",
    "    for i in gameslist:\n",
    "        try:\n",
    "            tdf = func(i).get_data_frames()[index]\n",
    "            rdshelp.insert_dataframe_to_rds(conn,tdf,name)\n",
    "            time.sleep(1)\n",
    "        except Exception as e:\n",
    "            fdf = pd.DataFrame({\"gameid\":[i]})\n",
    "            rdshelp.insert_dataframe_to_rds(conn,fdf,name)\n",
    "            print(\"An error occurred:\", e)\n",
    "\n",
    "games_createandinsert(param1,param2)"
   ]
  },
  {
   "cell_type": "code",
   "execution_count": 3,
   "metadata": {},
   "outputs": [],
   "source": []
  },
  {
   "cell_type": "code",
   "execution_count": 4,
   "metadata": {},
   "outputs": [
    {
     "name": "stdout",
     "output_type": "stream",
     "text": [
      "c:\\Users\\ajwin\\Projects\\NBA\\thebigone\\.venv\\Lib\\site-packages\\rdshelp.py\n"
     ]
    }
   ],
   "source": [
    "\n",
    "print(rdshelp.__file__)"
   ]
  }
 ],
 "metadata": {
  "kernelspec": {
   "display_name": ".venv",
   "language": "python",
   "name": "python3"
  },
  "language_info": {
   "codemirror_mode": {
    "name": "ipython",
    "version": 3
   },
   "file_extension": ".py",
   "mimetype": "text/x-python",
   "name": "python",
   "nbconvert_exporter": "python",
   "pygments_lexer": "ipython3",
   "version": "3.12.6"
  }
 },
 "nbformat": 4,
 "nbformat_minor": 2
}
