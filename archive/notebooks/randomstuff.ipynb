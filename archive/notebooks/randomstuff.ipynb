{
 "cells": [
  {
   "cell_type": "code",
   "execution_count": 17,
   "metadata": {},
   "outputs": [
    {
     "name": "stdout",
     "output_type": "stream",
     "text": [
      "🔍 Testing RDS connection after security group fix...\n",
      "Connected to RDS PostgreSQL database\n",
      "Connected to RDS PostgreSQL database\n"
     ]
    }
   ],
   "source": [
    "import nba_api.stats.endpoints as nbaapi\n",
    "import rdshelp\n",
    "\n",
    "# ✅ RDS CONNECTION NOW WORKING! (Fixed security group)\n",
    "print(\"🔍 Testing RDS connection after security group fix...\")\n",
    "\n",
    "conn = rdshelp.connect_to_rds('thebigone', 'ajwin', 'CharlesBark!23', 'nba-rds-instance.c9wwc0ukkiu5.us-east-1.rds.amazonaws.com')\n"
   ]
  },
  {
   "cell_type": "code",
   "execution_count": null,
   "metadata": {},
   "outputs": [],
   "source": [
    "gamefinder = nbaapi.leaguegamefinder.LeagueGameFinder(\n",
    "                            league_id_nullable='00',\n",
    "                            season_nullable='2024-2025')"
   ]
  },
  {
   "cell_type": "code",
   "execution_count": 16,
   "metadata": {},
   "outputs": [],
   "source": [
    "gamefinder.get_data_frames()[0].to_csv('test.csv')"
   ]
  },
  {
   "cell_type": "code",
   "execution_count": null,
   "metadata": {},
   "outputs": [],
   "source": []
  },
  {
   "cell_type": "code",
   "execution_count": null,
   "metadata": {},
   "outputs": [
    {
     "name": "stdout",
     "output_type": "stream",
     "text": [
      "Public tables in the database:\n",
      "['boxscoreadvancedv3_playerstats', 'gleague_games', 'gleague_players', 'gleague_teams', 'mastergames', 'masterplayers', 'nba_games', 'nba_players', 'nba_teams', 'test_games_g_league', 'test_games_nba', 'test_games_wnba', 'wnba_games', 'wnba_players', 'wnba_teams']\n"
     ]
    }
   ],
   "source": [
    "# Query all public tables in the connected RDS database\n",
    "import pandas as pd\n",
    "\n",
    "query = \"\"\"\n",
    "SELECT table_name\n",
    "FROM information_schema.tables\n",
    "WHERE table_schema = 'public'\n",
    "ORDER BY table_name;\n",
    "\"\"\"\n",
    "\n",
    "with conn.cursor() as cur:\n",
    "    cur.execute(query)\n",
    "    tables = cur.fetchall()\n",
    "    table_list = [row[0] for row in tables]\n",
    "    print(\"Public tables in the database:\")\n",
    "    print(table_list)\n"
   ]
  },
  {
   "cell_type": "code",
   "execution_count": null,
   "metadata": {},
   "outputs": [],
   "source": []
  },
  {
   "cell_type": "code",
   "execution_count": 21,
   "metadata": {},
   "outputs": [
    {
     "name": "stdout",
     "output_type": "stream",
     "text": [
      "Pulled 6810 rows from test_games_nba.\n"
     ]
    },
    {
     "data": {
      "text/html": [
       "<div>\n",
       "<style scoped>\n",
       "    .dataframe tbody tr th:only-of-type {\n",
       "        vertical-align: middle;\n",
       "    }\n",
       "\n",
       "    .dataframe tbody tr th {\n",
       "        vertical-align: top;\n",
       "    }\n",
       "\n",
       "    .dataframe thead th {\n",
       "        text-align: right;\n",
       "    }\n",
       "</style>\n",
       "<table border=\"1\" class=\"dataframe\">\n",
       "  <thead>\n",
       "    <tr style=\"text-align: right;\">\n",
       "      <th></th>\n",
       "      <th>game_id</th>\n",
       "      <th>season_id</th>\n",
       "      <th>game_date</th>\n",
       "      <th>home_team_id</th>\n",
       "      <th>home_team_abbreviation</th>\n",
       "      <th>home_team_name</th>\n",
       "      <th>away_team_id</th>\n",
       "      <th>away_team_abbreviation</th>\n",
       "      <th>away_team_name</th>\n",
       "      <th>matchup</th>\n",
       "      <th>home_wl</th>\n",
       "      <th>away_wl</th>\n",
       "      <th>season_type</th>\n",
       "      <th>league_name</th>\n",
       "      <th>created_at</th>\n",
       "      <th>updated_at</th>\n",
       "    </tr>\n",
       "  </thead>\n",
       "  <tbody>\n",
       "    <tr>\n",
       "      <th>0</th>\n",
       "      <td>1029700110</td>\n",
       "      <td>101997</td>\n",
       "      <td>1997-08-24</td>\n",
       "      <td>1611661320</td>\n",
       "      <td>LAS</td>\n",
       "      <td>Los Angeles Sparks</td>\n",
       "      <td>1611661317</td>\n",
       "      <td>PHO</td>\n",
       "      <td>Phoenix Mercury</td>\n",
       "      <td>PHO vs. LAS</td>\n",
       "      <td>L</td>\n",
       "      <td>W</td>\n",
       "      <td>Regular Season</td>\n",
       "      <td>WNBA</td>\n",
       "      <td>2025-08-11 19:04:44.047278</td>\n",
       "      <td>2025-08-11 19:04:44.047278</td>\n",
       "    </tr>\n",
       "    <tr>\n",
       "      <th>1</th>\n",
       "      <td>1029700111</td>\n",
       "      <td>101997</td>\n",
       "      <td>1997-08-24</td>\n",
       "      <td>1611661314</td>\n",
       "      <td>CHA</td>\n",
       "      <td>Charlotte Sting</td>\n",
       "      <td>1611661319</td>\n",
       "      <td>UTA</td>\n",
       "      <td>Utah Starzz</td>\n",
       "      <td>UTA @ CHA</td>\n",
       "      <td>W</td>\n",
       "      <td>L</td>\n",
       "      <td>Regular Season</td>\n",
       "      <td>WNBA</td>\n",
       "      <td>2025-08-11 19:04:44.047278</td>\n",
       "      <td>2025-08-11 19:04:44.047278</td>\n",
       "    </tr>\n",
       "    <tr>\n",
       "      <th>2</th>\n",
       "      <td>1029700109</td>\n",
       "      <td>101997</td>\n",
       "      <td>1997-08-24</td>\n",
       "      <td>1611661315</td>\n",
       "      <td>CLE</td>\n",
       "      <td>Cleveland Rockers</td>\n",
       "      <td>1611661313</td>\n",
       "      <td>NYL</td>\n",
       "      <td>New York Liberty</td>\n",
       "      <td>NYL vs. CLE</td>\n",
       "      <td>L</td>\n",
       "      <td>W</td>\n",
       "      <td>Regular Season</td>\n",
       "      <td>WNBA</td>\n",
       "      <td>2025-08-11 19:04:44.047278</td>\n",
       "      <td>2025-08-11 19:04:44.047278</td>\n",
       "    </tr>\n",
       "    <tr>\n",
       "      <th>3</th>\n",
       "      <td>1029700112</td>\n",
       "      <td>101997</td>\n",
       "      <td>1997-08-24</td>\n",
       "      <td>1611661318</td>\n",
       "      <td>SAC</td>\n",
       "      <td>Sacramento Monarchs</td>\n",
       "      <td>1611661316</td>\n",
       "      <td>HOU</td>\n",
       "      <td>Houston Comets</td>\n",
       "      <td>HOU vs. SAC</td>\n",
       "      <td>W</td>\n",
       "      <td>L</td>\n",
       "      <td>Regular Season</td>\n",
       "      <td>WNBA</td>\n",
       "      <td>2025-08-11 19:04:44.047278</td>\n",
       "      <td>2025-08-11 19:04:44.047278</td>\n",
       "    </tr>\n",
       "    <tr>\n",
       "      <th>4</th>\n",
       "      <td>1029700108</td>\n",
       "      <td>101997</td>\n",
       "      <td>1997-08-23</td>\n",
       "      <td>1611661315</td>\n",
       "      <td>CLE</td>\n",
       "      <td>Cleveland Rockers</td>\n",
       "      <td>1611661313</td>\n",
       "      <td>NYL</td>\n",
       "      <td>New York Liberty</td>\n",
       "      <td>NYL @ CLE</td>\n",
       "      <td>W</td>\n",
       "      <td>L</td>\n",
       "      <td>Regular Season</td>\n",
       "      <td>WNBA</td>\n",
       "      <td>2025-08-11 19:04:44.047278</td>\n",
       "      <td>2025-08-11 19:04:44.047278</td>\n",
       "    </tr>\n",
       "  </tbody>\n",
       "</table>\n",
       "</div>"
      ],
      "text/plain": [
       "      game_id season_id   game_date home_team_id home_team_abbreviation  \\\n",
       "0  1029700110    101997  1997-08-24   1611661320                    LAS   \n",
       "1  1029700111    101997  1997-08-24   1611661314                    CHA   \n",
       "2  1029700109    101997  1997-08-24   1611661315                    CLE   \n",
       "3  1029700112    101997  1997-08-24   1611661318                    SAC   \n",
       "4  1029700108    101997  1997-08-23   1611661315                    CLE   \n",
       "\n",
       "        home_team_name away_team_id away_team_abbreviation    away_team_name  \\\n",
       "0   Los Angeles Sparks   1611661317                    PHO   Phoenix Mercury   \n",
       "1      Charlotte Sting   1611661319                    UTA       Utah Starzz   \n",
       "2    Cleveland Rockers   1611661313                    NYL  New York Liberty   \n",
       "3  Sacramento Monarchs   1611661316                    HOU    Houston Comets   \n",
       "4    Cleveland Rockers   1611661313                    NYL  New York Liberty   \n",
       "\n",
       "       matchup home_wl away_wl     season_type league_name  \\\n",
       "0  PHO vs. LAS       L       W  Regular Season        WNBA   \n",
       "1    UTA @ CHA       W       L  Regular Season        WNBA   \n",
       "2  NYL vs. CLE       L       W  Regular Season        WNBA   \n",
       "3  HOU vs. SAC       W       L  Regular Season        WNBA   \n",
       "4    NYL @ CLE       W       L  Regular Season        WNBA   \n",
       "\n",
       "                  created_at                 updated_at  \n",
       "0 2025-08-11 19:04:44.047278 2025-08-11 19:04:44.047278  \n",
       "1 2025-08-11 19:04:44.047278 2025-08-11 19:04:44.047278  \n",
       "2 2025-08-11 19:04:44.047278 2025-08-11 19:04:44.047278  \n",
       "3 2025-08-11 19:04:44.047278 2025-08-11 19:04:44.047278  \n",
       "4 2025-08-11 19:04:44.047278 2025-08-11 19:04:44.047278  "
      ]
     },
     "metadata": {},
     "output_type": "display_data"
    }
   ],
   "source": [
    "# Query all games from test_games_nba and display as a DataFrame\n",
    "query = \"SELECT * FROM wnba_games;\"\n",
    "\n",
    "games_df = None\n",
    "with conn.cursor() as cur:\n",
    "    cur.execute(query)\n",
    "    rows = cur.fetchall()\n",
    "    colnames = [desc[0] for desc in cur.description]\n",
    "    games_df = pd.DataFrame(rows, columns=colnames)\n",
    "    print(f\"Pulled {len(games_df)} rows from test_games_nba.\")\n",
    "    display(games_df.head())\n"
   ]
  }
 ],
 "metadata": {
  "kernelspec": {
   "display_name": ".venv",
   "language": "python",
   "name": "python3"
  },
  "language_info": {
   "codemirror_mode": {
    "name": "ipython",
    "version": 3
   },
   "file_extension": ".py",
   "mimetype": "text/x-python",
   "name": "python",
   "nbconvert_exporter": "python",
   "pygments_lexer": "ipython3",
   "version": "3.12.6"
  }
 },
 "nbformat": 4,
 "nbformat_minor": 2
}
