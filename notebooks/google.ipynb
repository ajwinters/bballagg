{
 "cells": [
  {
   "cell_type": "code",
   "execution_count": null,
   "metadata": {},
   "outputs": [],
   "source": [
    "import pandas as pd\n",
    "import time\n",
    "import nba_api.stats.endpoints as nbaapi\n",
    "from nba_api.stats.endpoints import *\n",
    "import allintwo as allintwo\n",
    "\n",
    "conn = allintwo.connect_to_rds('thebigone', 'ajwin', 'CharlesBark!23', 'nba-rds-instance.c9wwc0ukkiu5.us-east-1.rds.amazonaws.com')\n",
    "\n",
    "def games_createandinsert(func,index):\n",
    "    print(f\"Processing data for: {func,index}\")\n",
    "    func = getattr(nbaapi,func)\n",
    "    index = int(index)\n",
    "    param = testgame\n",
    "    dfname = list(func.expected_data.keys())[index]\n",
    "\n",
    "    # need to replace with the endpoint class\n",
    "    namepre = func.__name__.lower()\n",
    "    name = namepre+\"_\"+dfname.lower()\n",
    "\n",
    "    df = func(param).get_data_frames()[index]\n",
    "\n",
    "    ### Creates Table if none exists\n",
    "    allintwo.create_table(conn,name,df)\n",
    "\n",
    "    gameslist = allintwo.game_difference(conn,name)\n",
    "\n",
    "    for i in gameslist:\n",
    "        try:\n",
    "            tdf = func(i).get_data_frames()[index]\n",
    "            allintwo.insert_dataframe_to_rds(conn,tdf,name)\n",
    "            #print(i)\n",
    "            time.sleep(1)\n",
    "        except Exception as e:\n",
    "            fdf = pd.DataFrame({\"gameid\":[i]})\n",
    "            allintwo.insert_dataframe_to_rds(conn,fdf,name)\n",
    "            print(\"An error occurred:\", e)"
   ]
  }
 ],
 "metadata": {
  "kernelspec": {
   "display_name": ".venv",
   "language": "python",
   "name": "python3"
  },
  "language_info": {
   "name": "python",
   "version": "3.12.6"
  }
 },
 "nbformat": 4,
 "nbformat_minor": 2
}
