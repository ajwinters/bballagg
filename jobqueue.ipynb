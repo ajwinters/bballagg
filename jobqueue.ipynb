{
 "cells": [
  {
   "cell_type": "code",
   "execution_count": null,
   "metadata": {},
   "outputs": [
    {
     "name": "stdout",
     "output_type": "stream",
     "text": [
      "Submitted job for BoxScoreAdvancedV3: 1d87dcee-8c77-4df1-8170-01936d5c8cf5\n"
     ]
    }
   ],
   "source": [
    "import boto3\n",
    "import json\n",
    "\n",
    "# Initialize Batch client\n",
    "batch_client = boto3.client(\"batch\", region_name=\"us-east-1\")\n",
    "\n",
    "# List of parameters for each job\n",
    "# parameters = [{\"param1\": \"boxscoreadvancedv3.BoxScoreAdvancedV3\", \"param2\": \"1\"},\n",
    "#               {\"param1\": \"boxscoretraditionalv3.BoxScoreTraditionalV3\", \"param2\": \"2\"}]\n",
    "\n",
    "func1 = \"BoxScoreAdvancedV3\"\n",
    "index1 = \"1\"\n",
    "\n",
    "response = batch_client.submit_job(\n",
    "    jobName=f\"process-data-{func1}\",\n",
    "    jobQueue=\"nbabigone_jobqueue\",\n",
    "    jobDefinition=\"nbabigone_definition_config\",\n",
    "    containerOverrides={\n",
    "        \"command\": [\"python\", \"games_process.py\", func1, index1],\n",
    "    },\n",
    ")\n",
    "print(f\"Submitted job for {func1}: {response['jobId']}\")\n"
   ]
  }
 ],
 "metadata": {
  "kernelspec": {
   "display_name": ".venv",
   "language": "python",
   "name": "python3"
  },
  "language_info": {
   "codemirror_mode": {
    "name": "ipython",
    "version": 3
   },
   "file_extension": ".py",
   "mimetype": "text/x-python",
   "name": "python",
   "nbconvert_exporter": "python",
   "pygments_lexer": "ipython3",
   "version": "3.12.6"
  }
 },
 "nbformat": 4,
 "nbformat_minor": 2
}
