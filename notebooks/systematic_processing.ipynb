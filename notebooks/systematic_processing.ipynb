{
 "cells": [
  {
   "cell_type": "markdown",
   "id": "0c2232c1",
   "metadata": {},
   "source": [
    "# NBA Systematic Data Processing\n",
    "\n",
    "This notebook demonstrates the new systematic approach to NBA data collection using the endpoint processor."
   ]
  },
  {
   "cell_type": "code",
   "execution_count": null,
   "id": "842b9e68",
   "metadata": {},
   "outputs": [],
   "source": [
    "import sys\n",
    "import os\n",
    "import pandas as pd\n",
    "\n",
    "# Add src directory to path\n",
    "sys.path.append(os.path.join(os.getcwd(), '..', 'src'))\n",
    "sys.path.append(os.path.join(os.getcwd(), '..', 'config'))\n",
    "\n",
    "import allintwo\n",
    "from nba_endpoint_processor import NBAEndpointProcessor\n",
    "from nba_endpoints_config import ALL_ENDPOINTS, get_endpoints_by_priority"
   ]
  },
  {
   "cell_type": "code",
   "execution_count": null,
   "id": "48b3249b",
   "metadata": {},
   "outputs": [],
   "source": [
    "# Connect to database\n",
    "conn = allintwo.connect_to_rds('thebigone', 'ajwin', 'CharlesBark!23', 'nba-rds-instance.c9wwc0ukkiu5.us-east-1.rds.amazonaws.com')\n",
    "\n",
    "# Create processor\n",
    "processor = NBAEndpointProcessor(conn, rate_limit=0.6)\n",
    "print(\"NBA Endpoint Processor initialized!\")"
   ]
  },
  {
   "cell_type": "code",
   "execution_count": null,
   "id": "bcf93b97",
   "metadata": {},
   "outputs": [],
   "source": [
    "# Test with a small sample of high-priority game endpoints\n",
    "print(\"Testing high-priority game-based endpoints with 5 games...\")\n",
    "results = processor.process_endpoints_by_category('game_based', priority='high', limit=5)\n",
    "\n",
    "# Show results\n",
    "for endpoint, result in results.items():\n",
    "    status = \"✓\" if result['success'] else \"✗\"\n",
    "    print(f\"{status} {endpoint}: {result['duration']:.2f}s\")\n",
    "\n",
    "summary = processor.get_processing_summary()\n",
    "print(f\"\\nSummary: {summary}\")"
   ]
  },
  {
   "cell_type": "code",
   "execution_count": null,
   "id": "378c6d49",
   "metadata": {},
   "outputs": [],
   "source": [
    "# Check what tables were created\n",
    "cursor = conn.cursor()\n",
    "cursor.execute(\"\"\"\n",
    "    SELECT table_name \n",
    "    FROM information_schema.tables \n",
    "    WHERE table_schema = 'public' \n",
    "    AND table_name LIKE 'boxscore%'\n",
    "    ORDER BY table_name;\n",
    "\"\"\")\n",
    "\n",
    "tables = cursor.fetchall()\n",
    "print(f\"Created {len(tables)} boxscore tables:\")\n",
    "for table in tables:\n",
    "    print(f\"  - {table[0]}\")"
   ]
  },
  {
   "cell_type": "code",
   "execution_count": null,
   "id": "79fcdeff",
   "metadata": {},
   "outputs": [],
   "source": [
    "# Test one of the created tables\n",
    "if tables:\n",
    "    test_table = tables[0][0]\n",
    "    df = allintwo.fetch_table_to_dataframe(conn, test_table)\n",
    "    print(f\"Sample data from {test_table}:\")\n",
    "    print(f\"Rows: {len(df)}, Columns: {len(df.columns)}\")\n",
    "    display(df.head())"
   ]
  },
  {
   "cell_type": "code",
   "execution_count": null,
   "id": "12261fe1",
   "metadata": {},
   "outputs": [],
   "source": [
    "# Show all available endpoint configurations\n",
    "print(\"Available endpoint categories:\")\n",
    "for category, endpoints in ALL_ENDPOINTS.items():\n",
    "    print(f\"\\n{category.upper()}: {len(endpoints)} endpoints\")\n",
    "    for ep in endpoints:\n",
    "        print(f\"  - {ep['endpoint']} ({ep['priority']} priority, {ep['frequency']} frequency)\")"
   ]
  }
 ],
 "metadata": {
  "language_info": {
   "name": "python"
  }
 },
 "nbformat": 4,
 "nbformat_minor": 5
}
