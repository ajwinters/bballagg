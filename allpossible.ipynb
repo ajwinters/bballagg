{
 "cells": [
  {
   "cell_type": "code",
   "execution_count": 3,
   "metadata": {},
   "outputs": [],
   "source": [
    "import pandas as pd\n",
    "import time\n",
    "import numpy as np\n",
    "from nba_api.stats.endpoints import playercareerstats\n",
    "import nba_api.stats.endpoints as nbaapi\n",
    "\n",
    "pd.set_option('display.max_columns', 500)\n",
    "\n",
    "### \n",
    "testplayer='203076'\n",
    "testgame = '0022201200'\n",
    "testteam = '1610612755'"
   ]
  },
  {
   "cell_type": "code",
   "execution_count": 4,
   "metadata": {},
   "outputs": [
    {
     "name": "stderr",
     "output_type": "stream",
     "text": [
      "C:\\Users\\ajwin\\AppData\\Local\\Temp\\ipykernel_34988\\2708627351.py:13: FutureWarning: The behavior of DataFrame concatenation with empty or all-NA entries is deprecated. In a future version, this will no longer exclude empty or all-NA columns when determining the result dtypes. To retain the old behavior, exclude the relevant entries before the concat operation.\n",
      "  gamehistory = pd.concat(gamesl,axis=0)\n",
      "C:\\Users\\ajwin\\AppData\\Local\\Temp\\ipykernel_34988\\2708627351.py:22: FutureWarning: The behavior of DataFrame concatenation with empty or all-NA entries is deprecated. In a future version, this will no longer exclude empty or all-NA columns when determining the result dtypes. To retain the old behavior, exclude the relevant entries before the concat operation.\n",
      "  allplayers = pd.concat(playersl,axis=0)\n"
     ]
    }
   ],
   "source": [
    "from nba_api.stats.endpoints import leaguegamefinder\n",
    "\n",
    "seasons = []\n",
    "for i in list(range(1983,2024)):\n",
    "    seasons.append(str(i)+'-'+str(i+1)[2:])\n",
    "seasons = seasons[::-1]\n",
    "\n",
    "gamesl = []\n",
    "for i in seasons:\n",
    "    gamefinder = leaguegamefinder.LeagueGameFinder(league_id_nullable='00', season_type_nullable=\"Regular Season\",season_nullable=i).get_data_frames()[0]\n",
    "    gamesl.append(gamefinder)\n",
    "    time.sleep(1)\n",
    "gamehistory = pd.concat(gamesl,axis=0)\n",
    "gamehistory['GAME_DATE'] =  pd.to_datetime(gamehistory['GAME_DATE'])\n",
    "\n",
    "playersl = []\n",
    "for i in seasons:\n",
    "    playerfinder = nbaapi.leaguedashplayerbiostats.LeagueDashPlayerBioStats(season=i).get_data_frames()[0]\n",
    "    playerfinder['season']=i\n",
    "    playersl.append(playerfinder)\n",
    "    time.sleep(.5)\n",
    "allplayers = pd.concat(playersl,axis=0)"
   ]
  },
  {
   "cell_type": "code",
   "execution_count": 15,
   "metadata": {},
   "outputs": [],
   "source": [
    "## Player stats across games\n",
    "pgl = nbaapi.playergamelog.PlayerGameLog(player_id=testplayer).get_data_frames()\n",
    "\n",
    "## Boxscore data\n",
    "bxv2 = nbaapi.boxscoreadvancedv2.BoxScoreAdvancedV2(game_id=testgame).get_data_frames()\n",
    "\n",
    "bxv3 = nbaapi.boxscoreadvancedv3.BoxScoreAdvancedV3(game_id=testgame).get_data_frames()\n",
    "\n",
    "bsdv2 = nbaapi.boxscoredefensivev2.BoxScoreDefensiveV2(game_id=testgame).get_data_frames()\n",
    "\n",
    "bsffv2 = nbaapi.boxscorefourfactorsv2.BoxScoreFourFactorsV2(game_id=testgame).get_data_frames()\n",
    "\n",
    "bsffv3 = nbaapi.boxscorefourfactorsv3.BoxScoreFourFactorsV3(game_id=testgame).get_data_frames()\n",
    "\n",
    "bshv2 = nbaapi.boxscorehustlev2.BoxScoreHustleV2(game_id=testgame).get_data_frames()\n",
    "\n",
    "bsmuv2 = nbaapi.boxscorematchupsv3.BoxScoreMatchupsV3(game_id=testgame).get_data_frames()\n",
    "\n",
    "bsmcv2 = nbaapi.boxscoremiscv2.BoxScoreMiscV2(game_id=testgame).get_data_frames()\n",
    "\n",
    "bsmcv3 = nbaapi.boxscoremiscv3.BoxScoreMiscV3(game_id=testgame).get_data_frames()\n",
    "\n",
    "bsptv2 = nbaapi.boxscoreplayertrackv2.BoxScorePlayerTrackV2(game_id=testgame).get_data_frames()\n",
    "\n",
    "bsptv3 = nbaapi.boxscoreplayertrackv3.BoxScorePlayerTrackV3(game_id=testgame).get_data_frames()\n",
    "\n",
    "bsscv2 = nbaapi.boxscorescoringv2.BoxScoreScoringV2(game_id=testgame).get_data_frames()\n",
    "\n",
    "bsscv3 = nbaapi.boxscorescoringv3.BoxScoreScoringV3(game_id=testgame).get_data_frames()\n",
    "\n",
    "bsss = nbaapi.boxscoresimilarityscore.BoxScoreSimilarityScore(game_id=testgame).get_data_frames()\n",
    "\n",
    "bssv2 = nbaapi.boxscoresummaryv2.BoxScoreSummaryV2(game_id=testgame).get_data_frames()\n",
    "\n",
    "bstv2 = nbaapi.boxscoretraditionalv2.BoxScoreTraditionalV2(game_id=testgame).get_data_frames()\n",
    "\n",
    "bstv3 = nbaapi.boxscoretraditionalv3.BoxScoreTraditionalV3(game_id=testgame).get_data_frames()\n",
    "\n",
    "bsuv2 = nbaapi.boxscoreusagev2.BoxScoreUsageV2(game_id=testgame).get_data_frames()\n",
    "\n",
    "bsuv3 = nbaapi.boxscoreusagev3.BoxScoreUsageV3(game_id=testgame).get_data_frames()\n",
    "\n",
    "## Playerinfo\n",
    "\n",
    "cpi = nbaapi.commonplayerinfo.CommonPlayerInfo(player_id=testplayer).get_data_frames()[0]\n",
    "\n",
    "ctr = nbaapi.commonteamroster.CommonTeamRoster(team_id=testteam).get_data_frames()[0] ### NEED TO MAKE SURE THIS ONE UPDATES AT THE BEGINING OF THE SEASON\n",
    "\n",
    "gr = nbaapi.gamerotation.GameRotation(game_id=testgame).get_data_frames()[0]\n",
    "\n",
    "hsbs = nbaapi.hustlestatsboxscore.HustleStatsBoxScore(game_id=testgame).get_data_frames()[1]\n",
    "\n",
    "ldbs = nbaapi.leaguedashplayerbiostats.LeagueDashPlayerBioStats().get_data_frames()[0]\n",
    "\n",
    "pdbc = nbaapi.playerdashboardbyclutch.PlayerDashboardByClutch(last_n_games=30, player_id=testplayer).get_data_frames()[0] ### NEED TO USE LAST N Games\n",
    "\n",
    "pdbgs = nbaapi.playerdashboardbygamesplits.PlayerDashboardByGameSplits(player_id=testplayer).get_data_frames()[0]\n",
    "\n",
    "pdbgens = nbaapi.playerdashboardbygeneralsplits.PlayerDashboardByGeneralSplits(player_id=testplayer).get_data_frames()[0]\n",
    "\n",
    "nbaapi.playerdashboardbylastngames.PlayerDashboardByLastNGames(player_id=testplayer).get_data_frames()[0] \n",
    "\n",
    "nbaapi.playerdashboardbyshootingsplits.PlayerDashboardByShootingSplits(player_id=testplayer,).get_data_frames()[0] ## Use season\n",
    "\n",
    "nbaapi.playerdashboardbyteamperformance.PlayerDashboardByTeamPerformance(player_id=testplayer).get_data_frames()[0]\n",
    "\n",
    "nbaapi.playerdashboardbyyearoveryear.PlayerDashboardByYearOverYear(player_id=testplayer).get_data_frames()[1] ## Just gives summary of year for each year player has been in the league \n",
    "\n",
    "nbaapi.PlayerDashPtPass(player_id='203932',team_id='1610612743').get_data_frames()[0] ## VERY interesting got to figure out what to do with it though\n",
    "\n",
    "nbaapi.PlayerDashPtReb(player_id='203932',team_id='1610612743').get_data_frames()[3]\n",
    "\n",
    "nbaapi.PlayerDashPtShotDefend(player_id=testplayer,team_id='1610612743').get_data_frames()[0] ## Not sure what to do with this one with current ideas, but coudl be something helpful later\n",
    "\n",
    "nbaapi.PlayerDashPtShots(player_id='203932',team_id='1610612743').get_data_frames()[0] ## I Like it, but idk how to use it\n",
    "\n",
    "#### Game Logs\n",
    "nbaapi.PlayerGameLog(testplayer).get_data_frames()[0]\n",
    "nbaapi.PlayerGameLogs(date_from_nullable='10/20/2000',date_to_nullable='12/31/2001',  season_nullable='2000-01').get_data_frames()[0]  ### VERY USEFUL FOR GETTING ALLL PLAYER GAME RECORDS AT ONCE WITH BASIC STATS\n",
    "\n",
    "#### PlaybyPlay. V3 is nice there is also a V2\n",
    "nbaapi.PlayByPlayV3(game_id=testgame).get_data_frames()[0]\n",
    "\n",
    "#### Utility\n",
    "nbaapi.PlayerNextNGames(testplayer).get_data_frames()[0]\n",
    "\n",
    "#### Player Compare\n",
    "nbaapi.PlayerVsPlayer(player_id=testplayer,vs_player_id='203932').get_data_frames()[0]\n",
    "\n",
    "#### THERE Are also a whole load of team dashboard endpoint, as of now, I just need the player dashboards."
   ]
  },
  {
   "cell_type": "code",
   "execution_count": 7,
   "metadata": {},
   "outputs": [],
   "source": [
    "gamehistory.to_csv('gamehistory.csv',index=None)\n",
    "allplayers.to_csv('allplayers.csv',index=None)"
   ]
  },
  {
   "cell_type": "code",
   "execution_count": 1,
   "metadata": {},
   "outputs": [
    {
     "ename": "NameError",
     "evalue": "name 'allplayers' is not defined",
     "output_type": "error",
     "traceback": [
      "\u001b[1;31m---------------------------------------------------------------------------\u001b[0m",
      "\u001b[1;31mNameError\u001b[0m                                 Traceback (most recent call last)",
      "Cell \u001b[1;32mIn[1], line 1\u001b[0m\n\u001b[1;32m----> 1\u001b[0m \u001b[43mallplayers\u001b[49m\n",
      "\u001b[1;31mNameError\u001b[0m: name 'allplayers' is not defined"
     ]
    }
   ],
   "source": []
  },
  {
   "cell_type": "code",
   "execution_count": null,
   "metadata": {},
   "outputs": [],
   "source": []
  },
  {
   "cell_type": "code",
   "execution_count": null,
   "metadata": {},
   "outputs": [],
   "source": []
  },
  {
   "cell_type": "code",
   "execution_count": null,
   "metadata": {},
   "outputs": [],
   "source": []
  }
 ],
 "metadata": {
  "kernelspec": {
   "display_name": ".venv",
   "language": "python",
   "name": "python3"
  },
  "language_info": {
   "codemirror_mode": {
    "name": "ipython",
    "version": 3
   },
   "file_extension": ".py",
   "mimetype": "text/x-python",
   "name": "python",
   "nbconvert_exporter": "python",
   "pygments_lexer": "ipython3",
   "version": "3.12.6"
  }
 },
 "nbformat": 4,
 "nbformat_minor": 2
}
