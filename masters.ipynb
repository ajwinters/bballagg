{
 "cells": [
  {
   "cell_type": "code",
   "execution_count": 1,
   "metadata": {},
   "outputs": [],
   "source": [
    "import pandas as pd\n",
    "import time\n",
    "import numpy as np\n",
    "from nba_api.stats.endpoints import playercareerstats\n",
    "import nba_api.stats.endpoints as nbaapi\n",
    "from nba_api.stats.endpoints import leaguegamefinder\n",
    "import psycopg2\n",
    "import re\n",
    "import allintwo"
   ]
  },
  {
   "cell_type": "code",
   "execution_count": 2,
   "metadata": {},
   "outputs": [],
   "source": [
    "# from nba_api.stats.endpoints import leaguegamefinder\n",
    "\n",
    "seasons = []\n",
    "for i in list(range(1983,2024)):\n",
    "    seasons.append(str(i)+'-'+str(i+1)[2:])\n",
    "seasons = seasons[::-1]\n",
    "\n",
    "# gamesl = []\n",
    "# for i in seasons:\n",
    "#     gamefinder = leaguegamefinder.LeagueGameFinder(league_id_nullable='00', season_type_nullable=\"Regular Season\",season_nullable=i).get_data_frames()[0]\n",
    "#     gamesl.append(gamefinder)\n",
    "#     time.sleep(1)\n",
    "# gamehistory = pd.concat(gamesl,axis=0)\n",
    "# gamehistory['GAME_DATE'] =  pd.to_datetime(gamehistory['GAME_DATE'])\n",
    "\n",
    "# playersl = []\n",
    "# for i in seasons:\n",
    "#     playerfinder = nbaapi.leaguedashplayerbiostats.LeagueDashPlayerBioStats(season=i).get_data_frames()[0]\n",
    "#     playerfinder['season']=i\n",
    "#     playersl.append(playerfinder)\n",
    "#     time.sleep(.5)\n",
    "# allplayers = pd.concat(playersl,axis=0)"
   ]
  },
  {
   "cell_type": "code",
   "execution_count": 3,
   "metadata": {},
   "outputs": [
    {
     "name": "stderr",
     "output_type": "stream",
     "text": [
      "C:\\Users\\ajwin\\AppData\\Local\\Temp\\ipykernel_117364\\53510150.py:7: FutureWarning: The behavior of DataFrame concatenation with empty or all-NA entries is deprecated. In a future version, this will no longer exclude empty or all-NA columns when determining the result dtypes. To retain the old behavior, exclude the relevant entries before the concat operation.\n",
      "  gamehistory = pd.concat(gamesl,axis=0)\n",
      "C:\\Users\\ajwin\\AppData\\Local\\Temp\\ipykernel_117364\\53510150.py:17: FutureWarning: The behavior of DataFrame concatenation with empty or all-NA entries is deprecated. In a future version, this will no longer exclude empty or all-NA columns when determining the result dtypes. To retain the old behavior, exclude the relevant entries before the concat operation.\n",
      "  allplayers = pd.concat(playersl,axis=0)\n"
     ]
    }
   ],
   "source": [
    "## Takes only 1:20 to pull\n",
    "gamesl = []\n",
    "for i in seasons:\n",
    "    gamefinder = leaguegamefinder.LeagueGameFinder(season_nullable=i).get_data_frames()[0]\n",
    "    gamesl.append(gamefinder)\n",
    "    time.sleep(1)\n",
    "gamehistory = pd.concat(gamesl,axis=0)\n",
    "gamehistory['GAME_DATE'] =  pd.to_datetime(gamehistory['GAME_DATE'])\n",
    "\n",
    "## Takes only 1:07\n",
    "playersl = []\n",
    "for i in seasons:\n",
    "    playerfinder = nbaapi.leaguedashplayerbiostats.LeagueDashPlayerBioStats(season=i).get_data_frames()[0]\n",
    "    playerfinder['season']=i\n",
    "    playersl.append(playerfinder)\n",
    "    time.sleep(.5)\n",
    "allplayers = pd.concat(playersl,axis=0)"
   ]
  },
  {
   "cell_type": "code",
   "execution_count": 7,
   "metadata": {},
   "outputs": [
    {
     "name": "stdout",
     "output_type": "stream",
     "text": [
      "Connected to RDS PostgreSQL database\n"
     ]
    }
   ],
   "source": [
    "conn = allintwo.connect_to_rds('thebigone', 'ajwin', 'CharlesBark!23', 'nba-rds-instance.c9wwc0ukkiu5.us-east-1.rds.amazonaws.com')\n",
    "\n",
    "### DROP TABLES\n",
    "cursor = conn.cursor()\n",
    "cursor.execute(\"DROP TABLE IF EXISTS mastergames;\")\n",
    "cursor.execute(\"DROP TABLE IF EXISTS masterplayers;\")\n",
    "\n",
    "conn.commit()\n",
    "\n",
    "gamehistory = allintwo.clean_column_names(gamehistory)\n",
    "allplayers = allintwo.clean_column_names(allplayers)\n",
    "\n",
    "allintwo.create_table(conn,'mastergames',gamehistory)\n",
    "allintwo.create_table(conn,'masterplayers',allplayers)"
   ]
  },
  {
   "cell_type": "code",
   "execution_count": 9,
   "metadata": {},
   "outputs": [
    {
     "ename": "InterfaceError",
     "evalue": "connection already closed",
     "output_type": "error",
     "traceback": [
      "\u001b[1;31m---------------------------------------------------------------------------\u001b[0m",
      "\u001b[1;31mInterfaceError\u001b[0m                            Traceback (most recent call last)",
      "Cell \u001b[1;32mIn[9], line 2\u001b[0m\n\u001b[0;32m      1\u001b[0m \u001b[38;5;66;03m# Call the function to insert the DataFrame data into the RDS table\u001b[39;00m\n\u001b[1;32m----> 2\u001b[0m \u001b[43mallintwo\u001b[49m\u001b[38;5;241;43m.\u001b[39;49m\u001b[43minsert_dataframe_to_rds\u001b[49m\u001b[43m(\u001b[49m\u001b[43mconn\u001b[49m\u001b[43m,\u001b[49m\n\u001b[0;32m      3\u001b[0m \u001b[43m    \u001b[49m\u001b[43mgamehistory\u001b[49m\u001b[43m,\u001b[49m\n\u001b[0;32m      4\u001b[0m \u001b[43m    \u001b[49m\u001b[43mtable_name\u001b[49m\u001b[38;5;241;43m=\u001b[39;49m\u001b[38;5;124;43m'\u001b[39;49m\u001b[38;5;124;43mmastergames\u001b[39;49m\u001b[38;5;124;43m'\u001b[39;49m\n\u001b[0;32m      5\u001b[0m \u001b[43m)\u001b[49m\n",
      "File \u001b[1;32mc:\\Users\\ajwin\\Projects\\NBA\\thebigone\\allintwo.py:113\u001b[0m, in \u001b[0;36minsert_dataframe_to_rds\u001b[1;34m(conn, df, table_name)\u001b[0m\n\u001b[0;32m    108\u001b[0m import psycopg2\n\u001b[0;32m    109\u001b[0m from psycopg2 import sql\n\u001b[0;32m    111\u001b[0m def insert_dataframe_to_rds(conn, df, table_name):\n\u001b[0;32m    112\u001b[0m    \n\u001b[1;32m--> 113\u001b[0m     # Create a cursor object\n\u001b[0;32m    114\u001b[0m     cur = conn.cursor()\n\u001b[0;32m    116\u001b[0m     # Prepare a SQL query for inserting data\n",
      "\u001b[1;31mInterfaceError\u001b[0m: connection already closed"
     ]
    }
   ],
   "source": [
    "# Call the function to insert the DataFrame data into the RDS table\n",
    "allintwo.insert_dataframe_to_rds(conn,\n",
    "    gamehistory,\n",
    "    table_name='mastergames'\n",
    ")\n"
   ]
  }
 ],
 "metadata": {
  "kernelspec": {
   "display_name": ".venv",
   "language": "python",
   "name": "python3"
  },
  "language_info": {
   "codemirror_mode": {
    "name": "ipython",
    "version": 3
   },
   "file_extension": ".py",
   "mimetype": "text/x-python",
   "name": "python",
   "nbconvert_exporter": "python",
   "pygments_lexer": "ipython3",
   "version": "3.12.6"
  }
 },
 "nbformat": 4,
 "nbformat_minor": 2
}
